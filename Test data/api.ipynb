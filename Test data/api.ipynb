{
 "cells": [
  {
   "cell_type": "code",
   "execution_count": 1,
   "metadata": {
    "collapsed": true
   },
   "outputs": [],
   "source": [
    "from flask import Flask, render_template, session, request, redirect, url_for, flash, jsonify\n",
    "from flask_restful import reqparse, abort, Api, Resource\n",
    "import datetime as dt\n",
    "import numpy as np\n",
    "import pandas as pd\n",
    "import time\n",
    "import datetime\n",
    "\n",
    "from flask_cors import CORS"
   ]
  },
  {
   "cell_type": "code",
   "execution_count": 2,
   "metadata": {
    "collapsed": true
   },
   "outputs": [],
   "source": [
    "data = pd.read_csv(\"data_time_spent.csv\", sep = ';', encoding = 'utf-8')"
   ]
  },
  {
   "cell_type": "code",
   "execution_count": 3,
   "metadata": {},
   "outputs": [
    {
     "data": {
      "text/html": [
       "<div>\n",
       "<style>\n",
       "    .dataframe thead tr:only-child th {\n",
       "        text-align: right;\n",
       "    }\n",
       "\n",
       "    .dataframe thead th {\n",
       "        text-align: left;\n",
       "    }\n",
       "\n",
       "    .dataframe tbody tr th {\n",
       "        vertical-align: top;\n",
       "    }\n",
       "</style>\n",
       "<table border=\"1\" class=\"dataframe\">\n",
       "  <thead>\n",
       "    <tr style=\"text-align: right;\">\n",
       "      <th></th>\n",
       "      <th>UNIT</th>\n",
       "      <th>GEO</th>\n",
       "      <th>TIME</th>\n",
       "      <th>DAYSWEEK</th>\n",
       "      <th>SEX</th>\n",
       "      <th>ACL00</th>\n",
       "      <th>Value</th>\n",
       "    </tr>\n",
       "  </thead>\n",
       "  <tbody>\n",
       "    <tr>\n",
       "      <th>0</th>\n",
       "      <td>Time spent (hh:mm)</td>\n",
       "      <td>Belgium</td>\n",
       "      <td>2000</td>\n",
       "      <td>All days of the week</td>\n",
       "      <td>Total</td>\n",
       "      <td>Total</td>\n",
       "      <td>24:00:00</td>\n",
       "    </tr>\n",
       "    <tr>\n",
       "      <th>1</th>\n",
       "      <td>Time spent (hh:mm)</td>\n",
       "      <td>Belgium</td>\n",
       "      <td>2000</td>\n",
       "      <td>All days of the week</td>\n",
       "      <td>Total</td>\n",
       "      <td>Personal care</td>\n",
       "      <td>10:58</td>\n",
       "    </tr>\n",
       "    <tr>\n",
       "      <th>2</th>\n",
       "      <td>Time spent (hh:mm)</td>\n",
       "      <td>Belgium</td>\n",
       "      <td>2000</td>\n",
       "      <td>All days of the week</td>\n",
       "      <td>Total</td>\n",
       "      <td>Sleep</td>\n",
       "      <td>08:25</td>\n",
       "    </tr>\n",
       "    <tr>\n",
       "      <th>3</th>\n",
       "      <td>Time spent (hh:mm)</td>\n",
       "      <td>Belgium</td>\n",
       "      <td>2000</td>\n",
       "      <td>All days of the week</td>\n",
       "      <td>Total</td>\n",
       "      <td>Eating</td>\n",
       "      <td>01:49</td>\n",
       "    </tr>\n",
       "    <tr>\n",
       "      <th>4</th>\n",
       "      <td>Time spent (hh:mm)</td>\n",
       "      <td>Belgium</td>\n",
       "      <td>2000</td>\n",
       "      <td>All days of the week</td>\n",
       "      <td>Total</td>\n",
       "      <td>Other and/or unspecified personal care</td>\n",
       "      <td>00:44</td>\n",
       "    </tr>\n",
       "  </tbody>\n",
       "</table>\n",
       "</div>"
      ],
      "text/plain": [
       "                 UNIT      GEO  TIME              DAYSWEEK    SEX  \\\n",
       "0  Time spent (hh:mm)  Belgium  2000  All days of the week  Total   \n",
       "1  Time spent (hh:mm)  Belgium  2000  All days of the week  Total   \n",
       "2  Time spent (hh:mm)  Belgium  2000  All days of the week  Total   \n",
       "3  Time spent (hh:mm)  Belgium  2000  All days of the week  Total   \n",
       "4  Time spent (hh:mm)  Belgium  2000  All days of the week  Total   \n",
       "\n",
       "                                    ACL00     Value  \n",
       "0                                   Total  24:00:00  \n",
       "1                           Personal care     10:58  \n",
       "2                                   Sleep     08:25  \n",
       "3                                  Eating     01:49  \n",
       "4  Other and/or unspecified personal care     00:44  "
      ]
     },
     "execution_count": 3,
     "metadata": {},
     "output_type": "execute_result"
    }
   ],
   "source": [
    "data.head()"
   ]
  },
  {
   "cell_type": "code",
   "execution_count": 4,
   "metadata": {},
   "outputs": [
    {
     "data": {
      "text/html": [
       "<div>\n",
       "<style>\n",
       "    .dataframe thead tr:only-child th {\n",
       "        text-align: right;\n",
       "    }\n",
       "\n",
       "    .dataframe thead th {\n",
       "        text-align: left;\n",
       "    }\n",
       "\n",
       "    .dataframe tbody tr th {\n",
       "        vertical-align: top;\n",
       "    }\n",
       "</style>\n",
       "<table border=\"1\" class=\"dataframe\">\n",
       "  <thead>\n",
       "    <tr style=\"text-align: right;\">\n",
       "      <th></th>\n",
       "      <th>UNIT</th>\n",
       "      <th>COUNTRY</th>\n",
       "      <th>YEAR</th>\n",
       "      <th>DAYSWEEK</th>\n",
       "      <th>SEX</th>\n",
       "      <th>CATEGORY</th>\n",
       "      <th>Value</th>\n",
       "    </tr>\n",
       "  </thead>\n",
       "  <tbody>\n",
       "    <tr>\n",
       "      <th>0</th>\n",
       "      <td>Time spent (hh:mm)</td>\n",
       "      <td>Belgium</td>\n",
       "      <td>2000</td>\n",
       "      <td>All days of the week</td>\n",
       "      <td>Total</td>\n",
       "      <td>Total</td>\n",
       "      <td>24:00:00</td>\n",
       "    </tr>\n",
       "    <tr>\n",
       "      <th>1</th>\n",
       "      <td>Time spent (hh:mm)</td>\n",
       "      <td>Belgium</td>\n",
       "      <td>2000</td>\n",
       "      <td>All days of the week</td>\n",
       "      <td>Total</td>\n",
       "      <td>Personal care</td>\n",
       "      <td>10:58</td>\n",
       "    </tr>\n",
       "    <tr>\n",
       "      <th>2</th>\n",
       "      <td>Time spent (hh:mm)</td>\n",
       "      <td>Belgium</td>\n",
       "      <td>2000</td>\n",
       "      <td>All days of the week</td>\n",
       "      <td>Total</td>\n",
       "      <td>Sleep</td>\n",
       "      <td>08:25</td>\n",
       "    </tr>\n",
       "    <tr>\n",
       "      <th>3</th>\n",
       "      <td>Time spent (hh:mm)</td>\n",
       "      <td>Belgium</td>\n",
       "      <td>2000</td>\n",
       "      <td>All days of the week</td>\n",
       "      <td>Total</td>\n",
       "      <td>Eating</td>\n",
       "      <td>01:49</td>\n",
       "    </tr>\n",
       "    <tr>\n",
       "      <th>4</th>\n",
       "      <td>Time spent (hh:mm)</td>\n",
       "      <td>Belgium</td>\n",
       "      <td>2000</td>\n",
       "      <td>All days of the week</td>\n",
       "      <td>Total</td>\n",
       "      <td>Other and/or unspecified personal care</td>\n",
       "      <td>00:44</td>\n",
       "    </tr>\n",
       "  </tbody>\n",
       "</table>\n",
       "</div>"
      ],
      "text/plain": [
       "                 UNIT  COUNTRY  YEAR              DAYSWEEK    SEX  \\\n",
       "0  Time spent (hh:mm)  Belgium  2000  All days of the week  Total   \n",
       "1  Time spent (hh:mm)  Belgium  2000  All days of the week  Total   \n",
       "2  Time spent (hh:mm)  Belgium  2000  All days of the week  Total   \n",
       "3  Time spent (hh:mm)  Belgium  2000  All days of the week  Total   \n",
       "4  Time spent (hh:mm)  Belgium  2000  All days of the week  Total   \n",
       "\n",
       "                                 CATEGORY     Value  \n",
       "0                                   Total  24:00:00  \n",
       "1                           Personal care     10:58  \n",
       "2                                   Sleep     08:25  \n",
       "3                                  Eating     01:49  \n",
       "4  Other and/or unspecified personal care     00:44  "
      ]
     },
     "execution_count": 4,
     "metadata": {},
     "output_type": "execute_result"
    }
   ],
   "source": [
    "data = data.rename(columns={\"GEO\": \"COUNTRY\", \"TIME\": \"YEAR\", 'ACL00' : 'CATEGORY'})\n",
    "data.head()"
   ]
  },
  {
   "cell_type": "code",
   "execution_count": 5,
   "metadata": {
    "collapsed": true
   },
   "outputs": [],
   "source": [
    "data = data[data['CATEGORY'] != 'Total']"
   ]
  },
  {
   "cell_type": "code",
   "execution_count": 6,
   "metadata": {},
   "outputs": [
    {
     "data": {
      "text/plain": [
       "UNIT        object\n",
       "COUNTRY     object\n",
       "YEAR         int64\n",
       "DAYSWEEK    object\n",
       "SEX         object\n",
       "CATEGORY    object\n",
       "Value       object\n",
       "dtype: object"
      ]
     },
     "execution_count": 6,
     "metadata": {},
     "output_type": "execute_result"
    }
   ],
   "source": [
    "data.dtypes"
   ]
  },
  {
   "cell_type": "code",
   "execution_count": 7,
   "metadata": {},
   "outputs": [
    {
     "data": {
      "text/plain": [
       "(62370, 7)"
      ]
     },
     "execution_count": 7,
     "metadata": {},
     "output_type": "execute_result"
    }
   ],
   "source": [
    "data.shape"
   ]
  },
  {
   "cell_type": "code",
   "execution_count": 8,
   "metadata": {},
   "outputs": [
    {
     "data": {
      "text/plain": [
       "array(['Time spent (hh:mm)', 'Participation time (hh:mm)',\n",
       "       'Participation rate (%)'], dtype=object)"
      ]
     },
     "execution_count": 8,
     "metadata": {},
     "output_type": "execute_result"
    }
   ],
   "source": [
    "data['UNIT'].unique()"
   ]
  },
  {
   "cell_type": "code",
   "execution_count": 9,
   "metadata": {
    "collapsed": true
   },
   "outputs": [],
   "source": [
    "test = data.pivot(values='Value', columns='UNIT')"
   ]
  },
  {
   "cell_type": "code",
   "execution_count": 10,
   "metadata": {},
   "outputs": [
    {
     "data": {
      "text/html": [
       "<div>\n",
       "<style>\n",
       "    .dataframe thead tr:only-child th {\n",
       "        text-align: right;\n",
       "    }\n",
       "\n",
       "    .dataframe thead th {\n",
       "        text-align: left;\n",
       "    }\n",
       "\n",
       "    .dataframe tbody tr th {\n",
       "        vertical-align: top;\n",
       "    }\n",
       "</style>\n",
       "<table border=\"1\" class=\"dataframe\">\n",
       "  <thead>\n",
       "    <tr style=\"text-align: right;\">\n",
       "      <th>UNIT</th>\n",
       "      <th>Participation rate (%)</th>\n",
       "      <th>Participation time (hh:mm)</th>\n",
       "      <th>Time spent (hh:mm)</th>\n",
       "    </tr>\n",
       "  </thead>\n",
       "  <tbody>\n",
       "    <tr>\n",
       "      <th>1</th>\n",
       "      <td>None</td>\n",
       "      <td>None</td>\n",
       "      <td>10:58</td>\n",
       "    </tr>\n",
       "    <tr>\n",
       "      <th>2</th>\n",
       "      <td>None</td>\n",
       "      <td>None</td>\n",
       "      <td>08:25</td>\n",
       "    </tr>\n",
       "    <tr>\n",
       "      <th>3</th>\n",
       "      <td>None</td>\n",
       "      <td>None</td>\n",
       "      <td>01:49</td>\n",
       "    </tr>\n",
       "    <tr>\n",
       "      <th>4</th>\n",
       "      <td>None</td>\n",
       "      <td>None</td>\n",
       "      <td>00:44</td>\n",
       "    </tr>\n",
       "    <tr>\n",
       "      <th>5</th>\n",
       "      <td>None</td>\n",
       "      <td>None</td>\n",
       "      <td>02:29</td>\n",
       "    </tr>\n",
       "  </tbody>\n",
       "</table>\n",
       "</div>"
      ],
      "text/plain": [
       "UNIT Participation rate (%) Participation time (hh:mm) Time spent (hh:mm)\n",
       "1                      None                       None              10:58\n",
       "2                      None                       None              08:25\n",
       "3                      None                       None              01:49\n",
       "4                      None                       None              00:44\n",
       "5                      None                       None              02:29"
      ]
     },
     "execution_count": 10,
     "metadata": {},
     "output_type": "execute_result"
    }
   ],
   "source": [
    "test.head()"
   ]
  },
  {
   "cell_type": "code",
   "execution_count": 11,
   "metadata": {},
   "outputs": [
    {
     "data": {
      "text/plain": [
       "(62370, 3)"
      ]
     },
     "execution_count": 11,
     "metadata": {},
     "output_type": "execute_result"
    }
   ],
   "source": [
    "test.shape"
   ]
  },
  {
   "cell_type": "code",
   "execution_count": 12,
   "metadata": {
    "collapsed": true
   },
   "outputs": [],
   "source": [
    "result = pd.concat([data, test], axis=1)"
   ]
  },
  {
   "cell_type": "code",
   "execution_count": 13,
   "metadata": {},
   "outputs": [
    {
     "data": {
      "text/html": [
       "<div>\n",
       "<style>\n",
       "    .dataframe thead tr:only-child th {\n",
       "        text-align: right;\n",
       "    }\n",
       "\n",
       "    .dataframe thead th {\n",
       "        text-align: left;\n",
       "    }\n",
       "\n",
       "    .dataframe tbody tr th {\n",
       "        vertical-align: top;\n",
       "    }\n",
       "</style>\n",
       "<table border=\"1\" class=\"dataframe\">\n",
       "  <thead>\n",
       "    <tr style=\"text-align: right;\">\n",
       "      <th></th>\n",
       "      <th>UNIT</th>\n",
       "      <th>COUNTRY</th>\n",
       "      <th>YEAR</th>\n",
       "      <th>DAYSWEEK</th>\n",
       "      <th>SEX</th>\n",
       "      <th>CATEGORY</th>\n",
       "      <th>Value</th>\n",
       "      <th>Participation rate (%)</th>\n",
       "      <th>Participation time (hh:mm)</th>\n",
       "      <th>Time spent (hh:mm)</th>\n",
       "    </tr>\n",
       "  </thead>\n",
       "  <tbody>\n",
       "    <tr>\n",
       "      <th>1</th>\n",
       "      <td>Time spent (hh:mm)</td>\n",
       "      <td>Belgium</td>\n",
       "      <td>2000</td>\n",
       "      <td>All days of the week</td>\n",
       "      <td>Total</td>\n",
       "      <td>Personal care</td>\n",
       "      <td>10:58</td>\n",
       "      <td>None</td>\n",
       "      <td>None</td>\n",
       "      <td>10:58</td>\n",
       "    </tr>\n",
       "    <tr>\n",
       "      <th>2</th>\n",
       "      <td>Time spent (hh:mm)</td>\n",
       "      <td>Belgium</td>\n",
       "      <td>2000</td>\n",
       "      <td>All days of the week</td>\n",
       "      <td>Total</td>\n",
       "      <td>Sleep</td>\n",
       "      <td>08:25</td>\n",
       "      <td>None</td>\n",
       "      <td>None</td>\n",
       "      <td>08:25</td>\n",
       "    </tr>\n",
       "    <tr>\n",
       "      <th>3</th>\n",
       "      <td>Time spent (hh:mm)</td>\n",
       "      <td>Belgium</td>\n",
       "      <td>2000</td>\n",
       "      <td>All days of the week</td>\n",
       "      <td>Total</td>\n",
       "      <td>Eating</td>\n",
       "      <td>01:49</td>\n",
       "      <td>None</td>\n",
       "      <td>None</td>\n",
       "      <td>01:49</td>\n",
       "    </tr>\n",
       "    <tr>\n",
       "      <th>4</th>\n",
       "      <td>Time spent (hh:mm)</td>\n",
       "      <td>Belgium</td>\n",
       "      <td>2000</td>\n",
       "      <td>All days of the week</td>\n",
       "      <td>Total</td>\n",
       "      <td>Other and/or unspecified personal care</td>\n",
       "      <td>00:44</td>\n",
       "      <td>None</td>\n",
       "      <td>None</td>\n",
       "      <td>00:44</td>\n",
       "    </tr>\n",
       "    <tr>\n",
       "      <th>5</th>\n",
       "      <td>Time spent (hh:mm)</td>\n",
       "      <td>Belgium</td>\n",
       "      <td>2000</td>\n",
       "      <td>All days of the week</td>\n",
       "      <td>Total</td>\n",
       "      <td>Employment, related activities and travel as p...</td>\n",
       "      <td>02:29</td>\n",
       "      <td>None</td>\n",
       "      <td>None</td>\n",
       "      <td>02:29</td>\n",
       "    </tr>\n",
       "  </tbody>\n",
       "</table>\n",
       "</div>"
      ],
      "text/plain": [
       "                 UNIT  COUNTRY  YEAR              DAYSWEEK    SEX  \\\n",
       "1  Time spent (hh:mm)  Belgium  2000  All days of the week  Total   \n",
       "2  Time spent (hh:mm)  Belgium  2000  All days of the week  Total   \n",
       "3  Time spent (hh:mm)  Belgium  2000  All days of the week  Total   \n",
       "4  Time spent (hh:mm)  Belgium  2000  All days of the week  Total   \n",
       "5  Time spent (hh:mm)  Belgium  2000  All days of the week  Total   \n",
       "\n",
       "                                            CATEGORY  Value  \\\n",
       "1                                      Personal care  10:58   \n",
       "2                                              Sleep  08:25   \n",
       "3                                             Eating  01:49   \n",
       "4             Other and/or unspecified personal care  00:44   \n",
       "5  Employment, related activities and travel as p...  02:29   \n",
       "\n",
       "  Participation rate (%) Participation time (hh:mm) Time spent (hh:mm)  \n",
       "1                   None                       None              10:58  \n",
       "2                   None                       None              08:25  \n",
       "3                   None                       None              01:49  \n",
       "4                   None                       None              00:44  \n",
       "5                   None                       None              02:29  "
      ]
     },
     "execution_count": 13,
     "metadata": {},
     "output_type": "execute_result"
    }
   ],
   "source": [
    "result.head()"
   ]
  },
  {
   "cell_type": "code",
   "execution_count": 14,
   "metadata": {
    "collapsed": true
   },
   "outputs": [],
   "source": [
    "result1 = result[result['UNIT'] == 'Time spent (hh:mm)']"
   ]
  },
  {
   "cell_type": "code",
   "execution_count": 15,
   "metadata": {},
   "outputs": [
    {
     "data": {
      "text/html": [
       "<div>\n",
       "<style>\n",
       "    .dataframe thead tr:only-child th {\n",
       "        text-align: right;\n",
       "    }\n",
       "\n",
       "    .dataframe thead th {\n",
       "        text-align: left;\n",
       "    }\n",
       "\n",
       "    .dataframe tbody tr th {\n",
       "        vertical-align: top;\n",
       "    }\n",
       "</style>\n",
       "<table border=\"1\" class=\"dataframe\">\n",
       "  <thead>\n",
       "    <tr style=\"text-align: right;\">\n",
       "      <th></th>\n",
       "      <th>COUNTRY</th>\n",
       "      <th>YEAR</th>\n",
       "      <th>DAYSWEEK</th>\n",
       "      <th>SEX</th>\n",
       "      <th>CATEGORY</th>\n",
       "      <th>Time spent (hh:mm)</th>\n",
       "    </tr>\n",
       "  </thead>\n",
       "  <tbody>\n",
       "    <tr>\n",
       "      <th>0</th>\n",
       "      <td>Belgium</td>\n",
       "      <td>2000</td>\n",
       "      <td>All days of the week</td>\n",
       "      <td>Total</td>\n",
       "      <td>Personal care</td>\n",
       "      <td>10:58</td>\n",
       "    </tr>\n",
       "    <tr>\n",
       "      <th>1</th>\n",
       "      <td>Belgium</td>\n",
       "      <td>2000</td>\n",
       "      <td>All days of the week</td>\n",
       "      <td>Total</td>\n",
       "      <td>Sleep</td>\n",
       "      <td>08:25</td>\n",
       "    </tr>\n",
       "    <tr>\n",
       "      <th>2</th>\n",
       "      <td>Belgium</td>\n",
       "      <td>2000</td>\n",
       "      <td>All days of the week</td>\n",
       "      <td>Total</td>\n",
       "      <td>Eating</td>\n",
       "      <td>01:49</td>\n",
       "    </tr>\n",
       "    <tr>\n",
       "      <th>3</th>\n",
       "      <td>Belgium</td>\n",
       "      <td>2000</td>\n",
       "      <td>All days of the week</td>\n",
       "      <td>Total</td>\n",
       "      <td>Other and/or unspecified personal care</td>\n",
       "      <td>00:44</td>\n",
       "    </tr>\n",
       "    <tr>\n",
       "      <th>4</th>\n",
       "      <td>Belgium</td>\n",
       "      <td>2000</td>\n",
       "      <td>All days of the week</td>\n",
       "      <td>Total</td>\n",
       "      <td>Employment, related activities and travel as p...</td>\n",
       "      <td>02:29</td>\n",
       "    </tr>\n",
       "  </tbody>\n",
       "</table>\n",
       "</div>"
      ],
      "text/plain": [
       "   COUNTRY  YEAR              DAYSWEEK    SEX  \\\n",
       "0  Belgium  2000  All days of the week  Total   \n",
       "1  Belgium  2000  All days of the week  Total   \n",
       "2  Belgium  2000  All days of the week  Total   \n",
       "3  Belgium  2000  All days of the week  Total   \n",
       "4  Belgium  2000  All days of the week  Total   \n",
       "\n",
       "                                            CATEGORY Time spent (hh:mm)  \n",
       "0                                      Personal care              10:58  \n",
       "1                                              Sleep              08:25  \n",
       "2                                             Eating              01:49  \n",
       "3             Other and/or unspecified personal care              00:44  \n",
       "4  Employment, related activities and travel as p...              02:29  "
      ]
     },
     "execution_count": 15,
     "metadata": {},
     "output_type": "execute_result"
    }
   ],
   "source": [
    "result1 = result1.drop(['UNIT', 'Value', \"Participation rate (%)\", \"Participation time (hh:mm)\"], axis=1)\n",
    "result1 = result1.reset_index().drop(\"index\", axis = 1)\n",
    "result1.head()"
   ]
  },
  {
   "cell_type": "code",
   "execution_count": 16,
   "metadata": {},
   "outputs": [
    {
     "data": {
      "text/plain": [
       "(20790, 6)"
      ]
     },
     "execution_count": 16,
     "metadata": {},
     "output_type": "execute_result"
    }
   ],
   "source": [
    "result1.shape"
   ]
  },
  {
   "cell_type": "code",
   "execution_count": 17,
   "metadata": {
    "collapsed": true
   },
   "outputs": [],
   "source": [
    "result2 = result[result['UNIT'] == 'Participation time (hh:mm)']"
   ]
  },
  {
   "cell_type": "code",
   "execution_count": 18,
   "metadata": {},
   "outputs": [
    {
     "data": {
      "text/html": [
       "<div>\n",
       "<style>\n",
       "    .dataframe thead tr:only-child th {\n",
       "        text-align: right;\n",
       "    }\n",
       "\n",
       "    .dataframe thead th {\n",
       "        text-align: left;\n",
       "    }\n",
       "\n",
       "    .dataframe tbody tr th {\n",
       "        vertical-align: top;\n",
       "    }\n",
       "</style>\n",
       "<table border=\"1\" class=\"dataframe\">\n",
       "  <thead>\n",
       "    <tr style=\"text-align: right;\">\n",
       "      <th></th>\n",
       "      <th>Participation time (hh:mm)</th>\n",
       "    </tr>\n",
       "  </thead>\n",
       "  <tbody>\n",
       "    <tr>\n",
       "      <th>0</th>\n",
       "      <td>10:59</td>\n",
       "    </tr>\n",
       "    <tr>\n",
       "      <th>1</th>\n",
       "      <td>08:25</td>\n",
       "    </tr>\n",
       "    <tr>\n",
       "      <th>2</th>\n",
       "      <td>01:50</td>\n",
       "    </tr>\n",
       "    <tr>\n",
       "      <th>3</th>\n",
       "      <td>00:45</td>\n",
       "    </tr>\n",
       "    <tr>\n",
       "      <th>4</th>\n",
       "      <td>07:11</td>\n",
       "    </tr>\n",
       "  </tbody>\n",
       "</table>\n",
       "</div>"
      ],
      "text/plain": [
       "  Participation time (hh:mm)\n",
       "0                      10:59\n",
       "1                      08:25\n",
       "2                      01:50\n",
       "3                      00:45\n",
       "4                      07:11"
      ]
     },
     "execution_count": 18,
     "metadata": {},
     "output_type": "execute_result"
    }
   ],
   "source": [
    "result2 = result2.drop(['UNIT', 'Value', 'Time spent (hh:mm)', \"Participation rate (%)\", \"COUNTRY\", \n",
    "                        'YEAR', \"DAYSWEEK\", \"SEX\", \"CATEGORY\"], axis=1)\n",
    "result2 = result2.reset_index().drop(\"index\", axis = 1)\n",
    "result2.head()"
   ]
  },
  {
   "cell_type": "code",
   "execution_count": 19,
   "metadata": {},
   "outputs": [
    {
     "data": {
      "text/plain": [
       "(20790, 1)"
      ]
     },
     "execution_count": 19,
     "metadata": {},
     "output_type": "execute_result"
    }
   ],
   "source": [
    "result2.shape"
   ]
  },
  {
   "cell_type": "code",
   "execution_count": 20,
   "metadata": {
    "collapsed": true
   },
   "outputs": [],
   "source": [
    "result3 = result[result['UNIT'] == 'Participation rate (%)']"
   ]
  },
  {
   "cell_type": "code",
   "execution_count": 21,
   "metadata": {},
   "outputs": [
    {
     "data": {
      "text/html": [
       "<div>\n",
       "<style>\n",
       "    .dataframe thead tr:only-child th {\n",
       "        text-align: right;\n",
       "    }\n",
       "\n",
       "    .dataframe thead th {\n",
       "        text-align: left;\n",
       "    }\n",
       "\n",
       "    .dataframe tbody tr th {\n",
       "        vertical-align: top;\n",
       "    }\n",
       "</style>\n",
       "<table border=\"1\" class=\"dataframe\">\n",
       "  <thead>\n",
       "    <tr style=\"text-align: right;\">\n",
       "      <th></th>\n",
       "      <th>Participation rate (%)</th>\n",
       "    </tr>\n",
       "  </thead>\n",
       "  <tbody>\n",
       "    <tr>\n",
       "      <th>0</th>\n",
       "      <td>100.0</td>\n",
       "    </tr>\n",
       "    <tr>\n",
       "      <th>1</th>\n",
       "      <td>100.0</td>\n",
       "    </tr>\n",
       "    <tr>\n",
       "      <th>2</th>\n",
       "      <td>99.5</td>\n",
       "    </tr>\n",
       "    <tr>\n",
       "      <th>3</th>\n",
       "      <td>97.6</td>\n",
       "    </tr>\n",
       "    <tr>\n",
       "      <th>4</th>\n",
       "      <td>34.5</td>\n",
       "    </tr>\n",
       "  </tbody>\n",
       "</table>\n",
       "</div>"
      ],
      "text/plain": [
       "  Participation rate (%)\n",
       "0                  100.0\n",
       "1                  100.0\n",
       "2                   99.5\n",
       "3                   97.6\n",
       "4                   34.5"
      ]
     },
     "execution_count": 21,
     "metadata": {},
     "output_type": "execute_result"
    }
   ],
   "source": [
    "result3 = result3.drop(['UNIT', 'Value', 'Time spent (hh:mm)', \"Participation time (hh:mm)\", \"COUNTRY\", \n",
    "                        'YEAR', \"DAYSWEEK\", \"SEX\", \"CATEGORY\"], axis=1)\n",
    "result3 = result3.reset_index().drop(\"index\", axis = 1)\n",
    "result3.head()"
   ]
  },
  {
   "cell_type": "code",
   "execution_count": 22,
   "metadata": {},
   "outputs": [
    {
     "data": {
      "text/plain": [
       "(20790, 1)"
      ]
     },
     "execution_count": 22,
     "metadata": {},
     "output_type": "execute_result"
    }
   ],
   "source": [
    "result3.shape"
   ]
  },
  {
   "cell_type": "code",
   "execution_count": 23,
   "metadata": {
    "collapsed": true
   },
   "outputs": [],
   "source": [
    "final_result = pd.concat([result1, result2, result3], axis=1)"
   ]
  },
  {
   "cell_type": "code",
   "execution_count": 24,
   "metadata": {},
   "outputs": [
    {
     "data": {
      "text/html": [
       "<div>\n",
       "<style>\n",
       "    .dataframe thead tr:only-child th {\n",
       "        text-align: right;\n",
       "    }\n",
       "\n",
       "    .dataframe thead th {\n",
       "        text-align: left;\n",
       "    }\n",
       "\n",
       "    .dataframe tbody tr th {\n",
       "        vertical-align: top;\n",
       "    }\n",
       "</style>\n",
       "<table border=\"1\" class=\"dataframe\">\n",
       "  <thead>\n",
       "    <tr style=\"text-align: right;\">\n",
       "      <th></th>\n",
       "      <th>COUNTRY</th>\n",
       "      <th>YEAR</th>\n",
       "      <th>DAYSWEEK</th>\n",
       "      <th>SEX</th>\n",
       "      <th>CATEGORY</th>\n",
       "      <th>Time spent (hh:mm)</th>\n",
       "      <th>Participation time (hh:mm)</th>\n",
       "      <th>Participation rate (%)</th>\n",
       "    </tr>\n",
       "  </thead>\n",
       "  <tbody>\n",
       "    <tr>\n",
       "      <th>0</th>\n",
       "      <td>Belgium</td>\n",
       "      <td>2000</td>\n",
       "      <td>All days of the week</td>\n",
       "      <td>Total</td>\n",
       "      <td>Personal care</td>\n",
       "      <td>10:58</td>\n",
       "      <td>10:59</td>\n",
       "      <td>100.0</td>\n",
       "    </tr>\n",
       "    <tr>\n",
       "      <th>1</th>\n",
       "      <td>Belgium</td>\n",
       "      <td>2000</td>\n",
       "      <td>All days of the week</td>\n",
       "      <td>Total</td>\n",
       "      <td>Sleep</td>\n",
       "      <td>08:25</td>\n",
       "      <td>08:25</td>\n",
       "      <td>100.0</td>\n",
       "    </tr>\n",
       "    <tr>\n",
       "      <th>2</th>\n",
       "      <td>Belgium</td>\n",
       "      <td>2000</td>\n",
       "      <td>All days of the week</td>\n",
       "      <td>Total</td>\n",
       "      <td>Eating</td>\n",
       "      <td>01:49</td>\n",
       "      <td>01:50</td>\n",
       "      <td>99.5</td>\n",
       "    </tr>\n",
       "    <tr>\n",
       "      <th>3</th>\n",
       "      <td>Belgium</td>\n",
       "      <td>2000</td>\n",
       "      <td>All days of the week</td>\n",
       "      <td>Total</td>\n",
       "      <td>Other and/or unspecified personal care</td>\n",
       "      <td>00:44</td>\n",
       "      <td>00:45</td>\n",
       "      <td>97.6</td>\n",
       "    </tr>\n",
       "    <tr>\n",
       "      <th>4</th>\n",
       "      <td>Belgium</td>\n",
       "      <td>2000</td>\n",
       "      <td>All days of the week</td>\n",
       "      <td>Total</td>\n",
       "      <td>Employment, related activities and travel as p...</td>\n",
       "      <td>02:29</td>\n",
       "      <td>07:11</td>\n",
       "      <td>34.5</td>\n",
       "    </tr>\n",
       "  </tbody>\n",
       "</table>\n",
       "</div>"
      ],
      "text/plain": [
       "   COUNTRY  YEAR              DAYSWEEK    SEX  \\\n",
       "0  Belgium  2000  All days of the week  Total   \n",
       "1  Belgium  2000  All days of the week  Total   \n",
       "2  Belgium  2000  All days of the week  Total   \n",
       "3  Belgium  2000  All days of the week  Total   \n",
       "4  Belgium  2000  All days of the week  Total   \n",
       "\n",
       "                                            CATEGORY Time spent (hh:mm)  \\\n",
       "0                                      Personal care              10:58   \n",
       "1                                              Sleep              08:25   \n",
       "2                                             Eating              01:49   \n",
       "3             Other and/or unspecified personal care              00:44   \n",
       "4  Employment, related activities and travel as p...              02:29   \n",
       "\n",
       "  Participation time (hh:mm) Participation rate (%)  \n",
       "0                      10:59                  100.0  \n",
       "1                      08:25                  100.0  \n",
       "2                      01:50                   99.5  \n",
       "3                      00:45                   97.6  \n",
       "4                      07:11                   34.5  "
      ]
     },
     "execution_count": 24,
     "metadata": {},
     "output_type": "execute_result"
    }
   ],
   "source": [
    "final_result.head()"
   ]
  },
  {
   "cell_type": "code",
   "execution_count": 25,
   "metadata": {},
   "outputs": [
    {
     "data": {
      "text/plain": [
       "(20790, 8)"
      ]
     },
     "execution_count": 25,
     "metadata": {},
     "output_type": "execute_result"
    }
   ],
   "source": [
    "final_result.shape"
   ]
  },
  {
   "cell_type": "code",
   "execution_count": 26,
   "metadata": {},
   "outputs": [
    {
     "data": {
      "text/plain": [
       "55"
      ]
     },
     "execution_count": 26,
     "metadata": {},
     "output_type": "execute_result"
    }
   ],
   "source": [
    "len(final_result['CATEGORY'].unique())"
   ]
  },
  {
   "cell_type": "code",
   "execution_count": 27,
   "metadata": {},
   "outputs": [
    {
     "data": {
      "text/plain": [
       "array(['Personal care', 'Sleep', 'Eating',\n",
       "       'Other and/or unspecified personal care',\n",
       "       'Employment, related activities and travel as part of/during main and second job',\n",
       "       'Main and second job and related travel',\n",
       "       'Activities related to employment and unspecified employment',\n",
       "       'Study', 'School and university except homework', 'Homework',\n",
       "       'Free time study', 'Household and family care',\n",
       "       'Food management except dish washing', 'Dish washing',\n",
       "       'Cleaning dwelling', 'Household upkeep except cleaning dwelling',\n",
       "       'Laundry', 'Ironing',\n",
       "       'Handicraft and producing textiles and other care for textiles',\n",
       "       'Gardening', 'Tending domestic animals', 'Caring for pets',\n",
       "       'Walking the dog', 'Construction and repairs ',\n",
       "       'Shopping and services',\n",
       "       'Childcare, except teaching, reading and talking',\n",
       "       'Teaching, reading and talking with child',\n",
       "       'Household management and help family member',\n",
       "       'Leisure, social and associative life', 'Organisational work',\n",
       "       'Informal help to other households', 'Participatory activities',\n",
       "       'Visiting and feasts', 'Other social life',\n",
       "       'Entertainment and culture', 'Resting', 'Walking and hiking',\n",
       "       'Sports and outdoor activities except walking and hiking',\n",
       "       'Computer games', 'Computing',\n",
       "       'Hobbies and games except computing and computer games',\n",
       "       'Reading books', 'Reading, except books', 'TV and video',\n",
       "       'Radio and music', 'Unspecified leisure ',\n",
       "       'Travel except travel related to jobs', 'Travel to/from work',\n",
       "       'Travel related to study',\n",
       "       'Travel related to shopping and services', 'Transporting a child',\n",
       "       'Travel related to other household purposes',\n",
       "       'Travel related to leisure, social and associative life',\n",
       "       'Unspecified travel', 'Unspecified time use'], dtype=object)"
      ]
     },
     "execution_count": 27,
     "metadata": {},
     "output_type": "execute_result"
    }
   ],
   "source": [
    "final_result['CATEGORY'].unique()"
   ]
  },
  {
   "cell_type": "raw",
   "metadata": {},
   "source": [
    "final_result[final_result['CATEGORY'] == 'Employment, related activities and travel as part of/during main and second job']"
   ]
  },
  {
   "cell_type": "code",
   "execution_count": 371,
   "metadata": {
    "collapsed": true
   },
   "outputs": [],
   "source": [
    "final = final_result"
   ]
  },
  {
   "cell_type": "code",
   "execution_count": 372,
   "metadata": {
    "collapsed": true
   },
   "outputs": [],
   "source": [
    "final.loc[final['CATEGORY'] == 'Other and/or unspecified personal care', 'CATEGORY'] = 'Personal care'\n",
    "final.loc[final['CATEGORY'] == 'Resting', 'CATEGORY'] = 'Sleep'\n",
    "final.loc[final['CATEGORY'] == 'School and university except homework', 'CATEGORY'] = 'Work / Study'\n",
    "final.loc[final['CATEGORY'] == 'Study', 'CATEGORY'] = 'Work / Study'\n",
    "final.loc[final['CATEGORY'] == 'Homework', 'CATEGORY'] = 'Work / Study'\n",
    "final.loc[final['CATEGORY'] == 'Free time study', 'CATEGORY'] = 'Work / Study'\n",
    "final.loc[final['CATEGORY'] == 'Employment, related activities and travel as part of/during main and second job', 'CATEGORY'] = 'Work / Study'    \n",
    "final.loc[final['CATEGORY'] == 'Organisational work', 'CATEGORY'] = 'Work / Study'\n",
    "final.loc[final['CATEGORY'] == 'Main and second job and related travel', 'CATEGORY'] = 'Work / Study'\n",
    "final.loc[final['CATEGORY'] == 'Household upkeep except cleaning dwelling', 'CATEGORY'] = 'Household and family care'\n",
    "final.loc[final['CATEGORY'] == 'Household management and help family member', 'CATEGORY'] = 'Household and family care'\n",
    "\n",
    "final.loc[final['CATEGORY'] == 'Informal help to other households', 'CATEGORY'] = 'Household and family care'\n",
    "final.loc[final['CATEGORY'] == 'Gardening', 'CATEGORY'] = 'Home maintenance'\n",
    "final.loc[final['CATEGORY'] == 'Construction and repairs ', 'CATEGORY'] = 'Home maintenance'\n",
    "final.loc[final['CATEGORY'] == 'Tending domestic animals', 'CATEGORY'] = 'Pet care'\n",
    "final.loc[final['CATEGORY'] == 'Caring for pets', 'CATEGORY'] = 'Pet care'\n",
    "final.loc[final['CATEGORY'] == 'Walking the dog', 'CATEGORY'] = 'Pet care'\n",
    "final.loc[final['CATEGORY'] == 'Shopping and services', 'CATEGORY'] = 'Shopping'\n",
    "final.loc[final['CATEGORY'] == 'Childcare, except teaching, reading and talking', 'CATEGORY'] = 'Child care'\n",
    "final.loc[final['CATEGORY'] == 'Teaching, reading and talking with child', 'CATEGORY'] = 'Child care'\n",
    "final.loc[final['CATEGORY'] == 'Unspecified leisure ', 'CATEGORY'] = 'Leisure, social and associative life'\n",
    "\n",
    "final.loc[final['CATEGORY'] == 'Participatory activities', 'CATEGORY'] = 'Leisure, social and associative life'\n",
    "final.loc[final['CATEGORY'] == 'Visiting and feasts', 'CATEGORY'] = 'Leisure, social and associative life'\n",
    "final.loc[final['CATEGORY'] == 'Other social life', 'CATEGORY'] = 'Leisure, social and associative life'\n",
    "final.loc[final['CATEGORY'] == 'Entertainment and culture', 'CATEGORY'] = 'Leisure, social and associative life'\n",
    "final.loc[final['CATEGORY'] == 'Computer games', 'CATEGORY'] = 'Leisure, social and associative life'\n",
    "final.loc[final['CATEGORY'] == 'Computing', 'CATEGORY'] = 'Leisure, social and associative life'\n",
    "final.loc[final['CATEGORY'] == 'Hobbies and games except computing and computer games', 'CATEGORY'] = 'Leisure, social and associative life'\n",
    "final.loc[final['CATEGORY'] == 'Reading books', 'CATEGORY'] = 'Leisure, social and associative life'\n",
    "final.loc[final['CATEGORY'] == 'Reading, except books', 'CATEGORY'] = 'Leisure, social and associative life'\n",
    "final.loc[final['CATEGORY'] == 'TV and video', 'CATEGORY'] = 'Leisure, social and associative life'\n",
    "\n",
    "final.loc[final['CATEGORY'] == 'Radio and music', 'CATEGORY'] = 'Leisure, social and associative life'\n",
    "final.loc[final['CATEGORY'] == 'Walking and hiking', 'CATEGORY'] = 'Sport'\n",
    "final.loc[final['CATEGORY'] == 'Sports and outdoor activities except walking and hiking', 'CATEGORY'] = 'Sport'\n",
    "final.loc[final['CATEGORY'] == 'Travel except travel related to jobs', 'CATEGORY'] = 'Travel'\n",
    "final.loc[final['CATEGORY'] == 'Travel related to shopping and services', 'CATEGORY'] = 'Travel'\n",
    "final.loc[final['CATEGORY'] == 'Unspecified travel', 'CATEGORY'] = 'Travel'\n",
    "final.loc[final['CATEGORY'] == 'Travel related to study', 'CATEGORY'] = 'Transportations'\n",
    "final.loc[final['CATEGORY'] == 'Travel to/from work', 'CATEGORY'] = 'Transportations'\n",
    "final.loc[final['CATEGORY'] == 'Transporting a child', 'CATEGORY'] = 'Transportations'\n",
    "final.loc[final['CATEGORY'] == 'Travel related to leisure, social and associative life', 'CATEGORY'] = 'Transportations'\n",
    "\n",
    "final.loc[final['CATEGORY'] == 'Travel related to other household purposes', 'CATEGORY'] = 'Transportations'\n",
    "final.loc[final['CATEGORY'] == 'Unspecified time use', 'CATEGORY'] = 'Unspecified'\n",
    "final.loc[final['CATEGORY'] == 'Activities related to employment and unspecified employment', 'CATEGORY'] = 'Work / Study'\n",
    "final.loc[final['CATEGORY'] == 'Food management except dish washing', 'CATEGORY'] = 'Household and family care'\n",
    "final.loc[final['CATEGORY'] == 'Dish washing', 'CATEGORY'] = 'Household and family care'\n",
    "final.loc[final['CATEGORY'] == 'Cleaning dwelling', 'CATEGORY'] = 'Household and family care'\n",
    "final.loc[final['CATEGORY'] == 'Laundry', 'CATEGORY'] = 'Household and family care'\n",
    "final.loc[final['CATEGORY'] == 'Ironing', 'CATEGORY'] = 'Household and family care'\n",
    "final.loc[final['CATEGORY'] == 'Handicraft and producing textiles and other care for textiles', 'CATEGORY'] = 'Household and family care'\n"
   ]
  },
  {
   "cell_type": "code",
   "execution_count": 373,
   "metadata": {},
   "outputs": [
    {
     "data": {
      "text/plain": [
       "14"
      ]
     },
     "execution_count": 373,
     "metadata": {},
     "output_type": "execute_result"
    }
   ],
   "source": [
    "len(final['CATEGORY'].unique())"
   ]
  },
  {
   "cell_type": "code",
   "execution_count": 374,
   "metadata": {},
   "outputs": [
    {
     "data": {
      "text/plain": [
       "array(['All days of the week', 'Monday to Friday', 'Saturday to Sunday'],\n",
       "      dtype=object)"
      ]
     },
     "execution_count": 374,
     "metadata": {},
     "output_type": "execute_result"
    }
   ],
   "source": [
    "final[\"DAYSWEEK\"].unique()"
   ]
  },
  {
   "cell_type": "code",
   "execution_count": 375,
   "metadata": {
    "collapsed": true
   },
   "outputs": [],
   "source": [
    "final = final[final[\"Participation time (hh:mm)\"] != \":U\"]"
   ]
  },
  {
   "cell_type": "code",
   "execution_count": 376,
   "metadata": {},
   "outputs": [
    {
     "data": {
      "text/html": [
       "<div>\n",
       "<style>\n",
       "    .dataframe thead tr:only-child th {\n",
       "        text-align: right;\n",
       "    }\n",
       "\n",
       "    .dataframe thead th {\n",
       "        text-align: left;\n",
       "    }\n",
       "\n",
       "    .dataframe tbody tr th {\n",
       "        vertical-align: top;\n",
       "    }\n",
       "</style>\n",
       "<table border=\"1\" class=\"dataframe\">\n",
       "  <thead>\n",
       "    <tr style=\"text-align: right;\">\n",
       "      <th></th>\n",
       "      <th>COUNTRY</th>\n",
       "      <th>YEAR</th>\n",
       "      <th>DAYSWEEK</th>\n",
       "      <th>SEX</th>\n",
       "      <th>CATEGORY</th>\n",
       "      <th>Time spent (hh:mm)</th>\n",
       "      <th>Participation time (hh:mm)</th>\n",
       "      <th>Participation rate (%)</th>\n",
       "    </tr>\n",
       "  </thead>\n",
       "  <tbody>\n",
       "    <tr>\n",
       "      <th>176</th>\n",
       "      <td>Belgium</td>\n",
       "      <td>2000</td>\n",
       "      <td>Monday to Friday</td>\n",
       "      <td>Total</td>\n",
       "      <td>Household and family care</td>\n",
       "      <td>03:23</td>\n",
       "      <td>03:36</td>\n",
       "      <td>93.8</td>\n",
       "    </tr>\n",
       "    <tr>\n",
       "      <th>177</th>\n",
       "      <td>Belgium</td>\n",
       "      <td>2000</td>\n",
       "      <td>Monday to Friday</td>\n",
       "      <td>Total</td>\n",
       "      <td>Household and family care</td>\n",
       "      <td>00:40</td>\n",
       "      <td>00:57</td>\n",
       "      <td>70.7</td>\n",
       "    </tr>\n",
       "    <tr>\n",
       "      <th>178</th>\n",
       "      <td>Belgium</td>\n",
       "      <td>2000</td>\n",
       "      <td>Monday to Friday</td>\n",
       "      <td>Total</td>\n",
       "      <td>Household and family care</td>\n",
       "      <td>00:15</td>\n",
       "      <td>00:31</td>\n",
       "      <td>49.9</td>\n",
       "    </tr>\n",
       "    <tr>\n",
       "      <th>179</th>\n",
       "      <td>Belgium</td>\n",
       "      <td>2000</td>\n",
       "      <td>Monday to Friday</td>\n",
       "      <td>Total</td>\n",
       "      <td>Household and family care</td>\n",
       "      <td>00:18</td>\n",
       "      <td>00:53</td>\n",
       "      <td>34.3</td>\n",
       "    </tr>\n",
       "    <tr>\n",
       "      <th>180</th>\n",
       "      <td>Belgium</td>\n",
       "      <td>2000</td>\n",
       "      <td>Monday to Friday</td>\n",
       "      <td>Total</td>\n",
       "      <td>Household and family care</td>\n",
       "      <td>00:22</td>\n",
       "      <td>00:49</td>\n",
       "      <td>46.0</td>\n",
       "    </tr>\n",
       "    <tr>\n",
       "      <th>181</th>\n",
       "      <td>Belgium</td>\n",
       "      <td>2000</td>\n",
       "      <td>Monday to Friday</td>\n",
       "      <td>Total</td>\n",
       "      <td>Household and family care</td>\n",
       "      <td>00:05</td>\n",
       "      <td>00:28</td>\n",
       "      <td>18.0</td>\n",
       "    </tr>\n",
       "    <tr>\n",
       "      <th>182</th>\n",
       "      <td>Belgium</td>\n",
       "      <td>2000</td>\n",
       "      <td>Monday to Friday</td>\n",
       "      <td>Total</td>\n",
       "      <td>Household and family care</td>\n",
       "      <td>00:11</td>\n",
       "      <td>01:01</td>\n",
       "      <td>18.3</td>\n",
       "    </tr>\n",
       "    <tr>\n",
       "      <th>183</th>\n",
       "      <td>Belgium</td>\n",
       "      <td>2000</td>\n",
       "      <td>Monday to Friday</td>\n",
       "      <td>Total</td>\n",
       "      <td>Household and family care</td>\n",
       "      <td>00:03</td>\n",
       "      <td>01:07</td>\n",
       "      <td>5.1</td>\n",
       "    </tr>\n",
       "    <tr>\n",
       "      <th>192</th>\n",
       "      <td>Belgium</td>\n",
       "      <td>2000</td>\n",
       "      <td>Monday to Friday</td>\n",
       "      <td>Total</td>\n",
       "      <td>Household and family care</td>\n",
       "      <td>00:10</td>\n",
       "      <td>00:37</td>\n",
       "      <td>25.5</td>\n",
       "    </tr>\n",
       "    <tr>\n",
       "      <th>231</th>\n",
       "      <td>Belgium</td>\n",
       "      <td>2000</td>\n",
       "      <td>Monday to Friday</td>\n",
       "      <td>Males</td>\n",
       "      <td>Household and family care</td>\n",
       "      <td>02:26</td>\n",
       "      <td>02:41</td>\n",
       "      <td>90.5</td>\n",
       "    </tr>\n",
       "    <tr>\n",
       "      <th>232</th>\n",
       "      <td>Belgium</td>\n",
       "      <td>2000</td>\n",
       "      <td>Monday to Friday</td>\n",
       "      <td>Males</td>\n",
       "      <td>Household and family care</td>\n",
       "      <td>00:22</td>\n",
       "      <td>00:39</td>\n",
       "      <td>55.5</td>\n",
       "    </tr>\n",
       "    <tr>\n",
       "      <th>233</th>\n",
       "      <td>Belgium</td>\n",
       "      <td>2000</td>\n",
       "      <td>Monday to Friday</td>\n",
       "      <td>Males</td>\n",
       "      <td>Household and family care</td>\n",
       "      <td>00:10</td>\n",
       "      <td>00:28</td>\n",
       "      <td>36.6</td>\n",
       "    </tr>\n",
       "    <tr>\n",
       "      <th>234</th>\n",
       "      <td>Belgium</td>\n",
       "      <td>2000</td>\n",
       "      <td>Monday to Friday</td>\n",
       "      <td>Males</td>\n",
       "      <td>Household and family care</td>\n",
       "      <td>00:08</td>\n",
       "      <td>00:43</td>\n",
       "      <td>19.3</td>\n",
       "    </tr>\n",
       "    <tr>\n",
       "      <th>235</th>\n",
       "      <td>Belgium</td>\n",
       "      <td>2000</td>\n",
       "      <td>Monday to Friday</td>\n",
       "      <td>Males</td>\n",
       "      <td>Household and family care</td>\n",
       "      <td>00:17</td>\n",
       "      <td>00:45</td>\n",
       "      <td>37.0</td>\n",
       "    </tr>\n",
       "    <tr>\n",
       "      <th>236</th>\n",
       "      <td>Belgium</td>\n",
       "      <td>2000</td>\n",
       "      <td>Monday to Friday</td>\n",
       "      <td>Males</td>\n",
       "      <td>Household and family care</td>\n",
       "      <td>00:01</td>\n",
       "      <td>00:22</td>\n",
       "      <td>4.1</td>\n",
       "    </tr>\n",
       "    <tr>\n",
       "      <th>237</th>\n",
       "      <td>Belgium</td>\n",
       "      <td>2000</td>\n",
       "      <td>Monday to Friday</td>\n",
       "      <td>Males</td>\n",
       "      <td>Household and family care</td>\n",
       "      <td>00:01</td>\n",
       "      <td>00:42</td>\n",
       "      <td>3.1</td>\n",
       "    </tr>\n",
       "    <tr>\n",
       "      <th>247</th>\n",
       "      <td>Belgium</td>\n",
       "      <td>2000</td>\n",
       "      <td>Monday to Friday</td>\n",
       "      <td>Males</td>\n",
       "      <td>Household and family care</td>\n",
       "      <td>00:09</td>\n",
       "      <td>00:36</td>\n",
       "      <td>23.9</td>\n",
       "    </tr>\n",
       "    <tr>\n",
       "      <th>286</th>\n",
       "      <td>Belgium</td>\n",
       "      <td>2000</td>\n",
       "      <td>Monday to Friday</td>\n",
       "      <td>Females</td>\n",
       "      <td>Household and family care</td>\n",
       "      <td>04:16</td>\n",
       "      <td>04:24</td>\n",
       "      <td>96.9</td>\n",
       "    </tr>\n",
       "    <tr>\n",
       "      <th>287</th>\n",
       "      <td>Belgium</td>\n",
       "      <td>2000</td>\n",
       "      <td>Monday to Friday</td>\n",
       "      <td>Females</td>\n",
       "      <td>Household and family care</td>\n",
       "      <td>00:58</td>\n",
       "      <td>01:08</td>\n",
       "      <td>84.8</td>\n",
       "    </tr>\n",
       "    <tr>\n",
       "      <th>288</th>\n",
       "      <td>Belgium</td>\n",
       "      <td>2000</td>\n",
       "      <td>Monday to Friday</td>\n",
       "      <td>Females</td>\n",
       "      <td>Household and family care</td>\n",
       "      <td>00:20</td>\n",
       "      <td>00:33</td>\n",
       "      <td>62.3</td>\n",
       "    </tr>\n",
       "    <tr>\n",
       "      <th>289</th>\n",
       "      <td>Belgium</td>\n",
       "      <td>2000</td>\n",
       "      <td>Monday to Friday</td>\n",
       "      <td>Females</td>\n",
       "      <td>Household and family care</td>\n",
       "      <td>00:27</td>\n",
       "      <td>00:57</td>\n",
       "      <td>48.3</td>\n",
       "    </tr>\n",
       "    <tr>\n",
       "      <th>290</th>\n",
       "      <td>Belgium</td>\n",
       "      <td>2000</td>\n",
       "      <td>Monday to Friday</td>\n",
       "      <td>Females</td>\n",
       "      <td>Household and family care</td>\n",
       "      <td>00:28</td>\n",
       "      <td>00:51</td>\n",
       "      <td>54.4</td>\n",
       "    </tr>\n",
       "    <tr>\n",
       "      <th>291</th>\n",
       "      <td>Belgium</td>\n",
       "      <td>2000</td>\n",
       "      <td>Monday to Friday</td>\n",
       "      <td>Females</td>\n",
       "      <td>Household and family care</td>\n",
       "      <td>00:09</td>\n",
       "      <td>00:29</td>\n",
       "      <td>31.0</td>\n",
       "    </tr>\n",
       "    <tr>\n",
       "      <th>292</th>\n",
       "      <td>Belgium</td>\n",
       "      <td>2000</td>\n",
       "      <td>Monday to Friday</td>\n",
       "      <td>Females</td>\n",
       "      <td>Household and family care</td>\n",
       "      <td>00:21</td>\n",
       "      <td>01:03</td>\n",
       "      <td>32.4</td>\n",
       "    </tr>\n",
       "    <tr>\n",
       "      <th>293</th>\n",
       "      <td>Belgium</td>\n",
       "      <td>2000</td>\n",
       "      <td>Monday to Friday</td>\n",
       "      <td>Females</td>\n",
       "      <td>Household and family care</td>\n",
       "      <td>00:06</td>\n",
       "      <td>01:09</td>\n",
       "      <td>9.3</td>\n",
       "    </tr>\n",
       "    <tr>\n",
       "      <th>302</th>\n",
       "      <td>Belgium</td>\n",
       "      <td>2000</td>\n",
       "      <td>Monday to Friday</td>\n",
       "      <td>Females</td>\n",
       "      <td>Household and family care</td>\n",
       "      <td>00:10</td>\n",
       "      <td>00:39</td>\n",
       "      <td>26.9</td>\n",
       "    </tr>\n",
       "    <tr>\n",
       "      <th>671</th>\n",
       "      <td>Belgium</td>\n",
       "      <td>2010</td>\n",
       "      <td>Monday to Friday</td>\n",
       "      <td>Total</td>\n",
       "      <td>Household and family care</td>\n",
       "      <td>03:11</td>\n",
       "      <td>03:29</td>\n",
       "      <td>91.4</td>\n",
       "    </tr>\n",
       "    <tr>\n",
       "      <th>672</th>\n",
       "      <td>Belgium</td>\n",
       "      <td>2010</td>\n",
       "      <td>Monday to Friday</td>\n",
       "      <td>Total</td>\n",
       "      <td>Household and family care</td>\n",
       "      <td>00:35</td>\n",
       "      <td>00:54</td>\n",
       "      <td>64.5</td>\n",
       "    </tr>\n",
       "    <tr>\n",
       "      <th>673</th>\n",
       "      <td>Belgium</td>\n",
       "      <td>2010</td>\n",
       "      <td>Monday to Friday</td>\n",
       "      <td>Total</td>\n",
       "      <td>Household and family care</td>\n",
       "      <td>00:17</td>\n",
       "      <td>00:32</td>\n",
       "      <td>51.9</td>\n",
       "    </tr>\n",
       "    <tr>\n",
       "      <th>674</th>\n",
       "      <td>Belgium</td>\n",
       "      <td>2010</td>\n",
       "      <td>Monday to Friday</td>\n",
       "      <td>Total</td>\n",
       "      <td>Household and family care</td>\n",
       "      <td>00:13</td>\n",
       "      <td>01:01</td>\n",
       "      <td>22.0</td>\n",
       "    </tr>\n",
       "    <tr>\n",
       "      <th>...</th>\n",
       "      <td>...</td>\n",
       "      <td>...</td>\n",
       "      <td>...</td>\n",
       "      <td>...</td>\n",
       "      <td>...</td>\n",
       "      <td>...</td>\n",
       "      <td>...</td>\n",
       "      <td>...</td>\n",
       "    </tr>\n",
       "    <tr>\n",
       "      <th>20471</th>\n",
       "      <td>Serbia</td>\n",
       "      <td>2010</td>\n",
       "      <td>Monday to Friday</td>\n",
       "      <td>Total</td>\n",
       "      <td>Household and family care</td>\n",
       "      <td>03:25</td>\n",
       "      <td>03:56</td>\n",
       "      <td>87.2</td>\n",
       "    </tr>\n",
       "    <tr>\n",
       "      <th>20472</th>\n",
       "      <td>Serbia</td>\n",
       "      <td>2010</td>\n",
       "      <td>Monday to Friday</td>\n",
       "      <td>Total</td>\n",
       "      <td>Household and family care</td>\n",
       "      <td>00:59</td>\n",
       "      <td>01:37</td>\n",
       "      <td>60.7</td>\n",
       "    </tr>\n",
       "    <tr>\n",
       "      <th>20473</th>\n",
       "      <td>Serbia</td>\n",
       "      <td>2010</td>\n",
       "      <td>Monday to Friday</td>\n",
       "      <td>Total</td>\n",
       "      <td>Household and family care</td>\n",
       "      <td>00:20</td>\n",
       "      <td>00:44</td>\n",
       "      <td>45.5</td>\n",
       "    </tr>\n",
       "    <tr>\n",
       "      <th>20474</th>\n",
       "      <td>Serbia</td>\n",
       "      <td>2010</td>\n",
       "      <td>Monday to Friday</td>\n",
       "      <td>Total</td>\n",
       "      <td>Household and family care</td>\n",
       "      <td>00:24</td>\n",
       "      <td>00:59</td>\n",
       "      <td>40.2</td>\n",
       "    </tr>\n",
       "    <tr>\n",
       "      <th>20475</th>\n",
       "      <td>Serbia</td>\n",
       "      <td>2010</td>\n",
       "      <td>Monday to Friday</td>\n",
       "      <td>Total</td>\n",
       "      <td>Household and family care</td>\n",
       "      <td>00:18</td>\n",
       "      <td>00:56</td>\n",
       "      <td>31.2</td>\n",
       "    </tr>\n",
       "    <tr>\n",
       "      <th>20476</th>\n",
       "      <td>Serbia</td>\n",
       "      <td>2010</td>\n",
       "      <td>Monday to Friday</td>\n",
       "      <td>Total</td>\n",
       "      <td>Household and family care</td>\n",
       "      <td>00:07</td>\n",
       "      <td>00:41</td>\n",
       "      <td>16.9</td>\n",
       "    </tr>\n",
       "    <tr>\n",
       "      <th>20477</th>\n",
       "      <td>Serbia</td>\n",
       "      <td>2010</td>\n",
       "      <td>Monday to Friday</td>\n",
       "      <td>Total</td>\n",
       "      <td>Household and family care</td>\n",
       "      <td>00:07</td>\n",
       "      <td>00:57</td>\n",
       "      <td>11.8</td>\n",
       "    </tr>\n",
       "    <tr>\n",
       "      <th>20478</th>\n",
       "      <td>Serbia</td>\n",
       "      <td>2010</td>\n",
       "      <td>Monday to Friday</td>\n",
       "      <td>Total</td>\n",
       "      <td>Household and family care</td>\n",
       "      <td>00:04</td>\n",
       "      <td>01:40</td>\n",
       "      <td>3.6</td>\n",
       "    </tr>\n",
       "    <tr>\n",
       "      <th>20487</th>\n",
       "      <td>Serbia</td>\n",
       "      <td>2010</td>\n",
       "      <td>Monday to Friday</td>\n",
       "      <td>Total</td>\n",
       "      <td>Household and family care</td>\n",
       "      <td>00:02</td>\n",
       "      <td>00:45</td>\n",
       "      <td>4.4</td>\n",
       "    </tr>\n",
       "    <tr>\n",
       "      <th>20490</th>\n",
       "      <td>Serbia</td>\n",
       "      <td>2010</td>\n",
       "      <td>Monday to Friday</td>\n",
       "      <td>Total</td>\n",
       "      <td>Household and family care</td>\n",
       "      <td>00:11</td>\n",
       "      <td>02:25</td>\n",
       "      <td>7.7</td>\n",
       "    </tr>\n",
       "    <tr>\n",
       "      <th>20526</th>\n",
       "      <td>Serbia</td>\n",
       "      <td>2010</td>\n",
       "      <td>Monday to Friday</td>\n",
       "      <td>Males</td>\n",
       "      <td>Household and family care</td>\n",
       "      <td>01:57</td>\n",
       "      <td>02:33</td>\n",
       "      <td>76.8</td>\n",
       "    </tr>\n",
       "    <tr>\n",
       "      <th>20527</th>\n",
       "      <td>Serbia</td>\n",
       "      <td>2010</td>\n",
       "      <td>Monday to Friday</td>\n",
       "      <td>Males</td>\n",
       "      <td>Household and family care</td>\n",
       "      <td>00:16</td>\n",
       "      <td>00:51</td>\n",
       "      <td>30.9</td>\n",
       "    </tr>\n",
       "    <tr>\n",
       "      <th>20528</th>\n",
       "      <td>Serbia</td>\n",
       "      <td>2010</td>\n",
       "      <td>Monday to Friday</td>\n",
       "      <td>Males</td>\n",
       "      <td>Household and family care</td>\n",
       "      <td>00:03</td>\n",
       "      <td>00:26</td>\n",
       "      <td>13.0</td>\n",
       "    </tr>\n",
       "    <tr>\n",
       "      <th>20529</th>\n",
       "      <td>Serbia</td>\n",
       "      <td>2010</td>\n",
       "      <td>Monday to Friday</td>\n",
       "      <td>Males</td>\n",
       "      <td>Household and family care</td>\n",
       "      <td>00:06</td>\n",
       "      <td>00:39</td>\n",
       "      <td>16.1</td>\n",
       "    </tr>\n",
       "    <tr>\n",
       "      <th>20530</th>\n",
       "      <td>Serbia</td>\n",
       "      <td>2010</td>\n",
       "      <td>Monday to Friday</td>\n",
       "      <td>Males</td>\n",
       "      <td>Household and family care</td>\n",
       "      <td>00:23</td>\n",
       "      <td>01:15</td>\n",
       "      <td>30.0</td>\n",
       "    </tr>\n",
       "    <tr>\n",
       "      <th>20531</th>\n",
       "      <td>Serbia</td>\n",
       "      <td>2010</td>\n",
       "      <td>Monday to Friday</td>\n",
       "      <td>Males</td>\n",
       "      <td>Household and family care</td>\n",
       "      <td>00:01</td>\n",
       "      <td>00:33</td>\n",
       "      <td>2.5</td>\n",
       "    </tr>\n",
       "    <tr>\n",
       "      <th>20532</th>\n",
       "      <td>Serbia</td>\n",
       "      <td>2010</td>\n",
       "      <td>Monday to Friday</td>\n",
       "      <td>Males</td>\n",
       "      <td>Household and family care</td>\n",
       "      <td>00:00</td>\n",
       "      <td>00:49</td>\n",
       "      <td>0.7</td>\n",
       "    </tr>\n",
       "    <tr>\n",
       "      <th>20533</th>\n",
       "      <td>Serbia</td>\n",
       "      <td>2010</td>\n",
       "      <td>Monday to Friday</td>\n",
       "      <td>Males</td>\n",
       "      <td>Household and family care</td>\n",
       "      <td>00:00</td>\n",
       "      <td>00:25</td>\n",
       "      <td>0.7</td>\n",
       "    </tr>\n",
       "    <tr>\n",
       "      <th>20542</th>\n",
       "      <td>Serbia</td>\n",
       "      <td>2010</td>\n",
       "      <td>Monday to Friday</td>\n",
       "      <td>Males</td>\n",
       "      <td>Household and family care</td>\n",
       "      <td>00:02</td>\n",
       "      <td>01:00</td>\n",
       "      <td>3.2</td>\n",
       "    </tr>\n",
       "    <tr>\n",
       "      <th>20545</th>\n",
       "      <td>Serbia</td>\n",
       "      <td>2010</td>\n",
       "      <td>Monday to Friday</td>\n",
       "      <td>Males</td>\n",
       "      <td>Household and family care</td>\n",
       "      <td>00:13</td>\n",
       "      <td>02:41</td>\n",
       "      <td>8.3</td>\n",
       "    </tr>\n",
       "    <tr>\n",
       "      <th>20581</th>\n",
       "      <td>Serbia</td>\n",
       "      <td>2010</td>\n",
       "      <td>Monday to Friday</td>\n",
       "      <td>Females</td>\n",
       "      <td>Household and family care</td>\n",
       "      <td>04:47</td>\n",
       "      <td>04:57</td>\n",
       "      <td>96.8</td>\n",
       "    </tr>\n",
       "    <tr>\n",
       "      <th>20582</th>\n",
       "      <td>Serbia</td>\n",
       "      <td>2010</td>\n",
       "      <td>Monday to Friday</td>\n",
       "      <td>Females</td>\n",
       "      <td>Household and family care</td>\n",
       "      <td>01:39</td>\n",
       "      <td>01:52</td>\n",
       "      <td>88.3</td>\n",
       "    </tr>\n",
       "    <tr>\n",
       "      <th>20583</th>\n",
       "      <td>Serbia</td>\n",
       "      <td>2010</td>\n",
       "      <td>Monday to Friday</td>\n",
       "      <td>Females</td>\n",
       "      <td>Household and family care</td>\n",
       "      <td>00:35</td>\n",
       "      <td>00:47</td>\n",
       "      <td>75.7</td>\n",
       "    </tr>\n",
       "    <tr>\n",
       "      <th>20584</th>\n",
       "      <td>Serbia</td>\n",
       "      <td>2010</td>\n",
       "      <td>Monday to Friday</td>\n",
       "      <td>Females</td>\n",
       "      <td>Household and family care</td>\n",
       "      <td>00:40</td>\n",
       "      <td>01:04</td>\n",
       "      <td>62.5</td>\n",
       "    </tr>\n",
       "    <tr>\n",
       "      <th>20585</th>\n",
       "      <td>Serbia</td>\n",
       "      <td>2010</td>\n",
       "      <td>Monday to Friday</td>\n",
       "      <td>Females</td>\n",
       "      <td>Household and family care</td>\n",
       "      <td>00:13</td>\n",
       "      <td>00:40</td>\n",
       "      <td>32.4</td>\n",
       "    </tr>\n",
       "    <tr>\n",
       "      <th>20586</th>\n",
       "      <td>Serbia</td>\n",
       "      <td>2010</td>\n",
       "      <td>Monday to Friday</td>\n",
       "      <td>Females</td>\n",
       "      <td>Household and family care</td>\n",
       "      <td>00:13</td>\n",
       "      <td>00:42</td>\n",
       "      <td>30.4</td>\n",
       "    </tr>\n",
       "    <tr>\n",
       "      <th>20587</th>\n",
       "      <td>Serbia</td>\n",
       "      <td>2010</td>\n",
       "      <td>Monday to Friday</td>\n",
       "      <td>Females</td>\n",
       "      <td>Household and family care</td>\n",
       "      <td>00:13</td>\n",
       "      <td>00:57</td>\n",
       "      <td>22.2</td>\n",
       "    </tr>\n",
       "    <tr>\n",
       "      <th>20588</th>\n",
       "      <td>Serbia</td>\n",
       "      <td>2010</td>\n",
       "      <td>Monday to Friday</td>\n",
       "      <td>Females</td>\n",
       "      <td>Household and family care</td>\n",
       "      <td>00:07</td>\n",
       "      <td>01:48</td>\n",
       "      <td>6.3</td>\n",
       "    </tr>\n",
       "    <tr>\n",
       "      <th>20597</th>\n",
       "      <td>Serbia</td>\n",
       "      <td>2010</td>\n",
       "      <td>Monday to Friday</td>\n",
       "      <td>Females</td>\n",
       "      <td>Household and family care</td>\n",
       "      <td>00:02</td>\n",
       "      <td>00:37</td>\n",
       "      <td>5.5</td>\n",
       "    </tr>\n",
       "    <tr>\n",
       "      <th>20600</th>\n",
       "      <td>Serbia</td>\n",
       "      <td>2010</td>\n",
       "      <td>Monday to Friday</td>\n",
       "      <td>Females</td>\n",
       "      <td>Household and family care</td>\n",
       "      <td>00:09</td>\n",
       "      <td>02:09</td>\n",
       "      <td>7.2</td>\n",
       "    </tr>\n",
       "  </tbody>\n",
       "</table>\n",
       "<p>1240 rows × 8 columns</p>\n",
       "</div>"
      ],
      "text/plain": [
       "       COUNTRY  YEAR          DAYSWEEK      SEX                   CATEGORY  \\\n",
       "176    Belgium  2000  Monday to Friday    Total  Household and family care   \n",
       "177    Belgium  2000  Monday to Friday    Total  Household and family care   \n",
       "178    Belgium  2000  Monday to Friday    Total  Household and family care   \n",
       "179    Belgium  2000  Monday to Friday    Total  Household and family care   \n",
       "180    Belgium  2000  Monday to Friday    Total  Household and family care   \n",
       "181    Belgium  2000  Monday to Friday    Total  Household and family care   \n",
       "182    Belgium  2000  Monday to Friday    Total  Household and family care   \n",
       "183    Belgium  2000  Monday to Friday    Total  Household and family care   \n",
       "192    Belgium  2000  Monday to Friday    Total  Household and family care   \n",
       "231    Belgium  2000  Monday to Friday    Males  Household and family care   \n",
       "232    Belgium  2000  Monday to Friday    Males  Household and family care   \n",
       "233    Belgium  2000  Monday to Friday    Males  Household and family care   \n",
       "234    Belgium  2000  Monday to Friday    Males  Household and family care   \n",
       "235    Belgium  2000  Monday to Friday    Males  Household and family care   \n",
       "236    Belgium  2000  Monday to Friday    Males  Household and family care   \n",
       "237    Belgium  2000  Monday to Friday    Males  Household and family care   \n",
       "247    Belgium  2000  Monday to Friday    Males  Household and family care   \n",
       "286    Belgium  2000  Monday to Friday  Females  Household and family care   \n",
       "287    Belgium  2000  Monday to Friday  Females  Household and family care   \n",
       "288    Belgium  2000  Monday to Friday  Females  Household and family care   \n",
       "289    Belgium  2000  Monday to Friday  Females  Household and family care   \n",
       "290    Belgium  2000  Monday to Friday  Females  Household and family care   \n",
       "291    Belgium  2000  Monday to Friday  Females  Household and family care   \n",
       "292    Belgium  2000  Monday to Friday  Females  Household and family care   \n",
       "293    Belgium  2000  Monday to Friday  Females  Household and family care   \n",
       "302    Belgium  2000  Monday to Friday  Females  Household and family care   \n",
       "671    Belgium  2010  Monday to Friday    Total  Household and family care   \n",
       "672    Belgium  2010  Monday to Friday    Total  Household and family care   \n",
       "673    Belgium  2010  Monday to Friday    Total  Household and family care   \n",
       "674    Belgium  2010  Monday to Friday    Total  Household and family care   \n",
       "...        ...   ...               ...      ...                        ...   \n",
       "20471   Serbia  2010  Monday to Friday    Total  Household and family care   \n",
       "20472   Serbia  2010  Monday to Friday    Total  Household and family care   \n",
       "20473   Serbia  2010  Monday to Friday    Total  Household and family care   \n",
       "20474   Serbia  2010  Monday to Friday    Total  Household and family care   \n",
       "20475   Serbia  2010  Monday to Friday    Total  Household and family care   \n",
       "20476   Serbia  2010  Monday to Friday    Total  Household and family care   \n",
       "20477   Serbia  2010  Monday to Friday    Total  Household and family care   \n",
       "20478   Serbia  2010  Monday to Friday    Total  Household and family care   \n",
       "20487   Serbia  2010  Monday to Friday    Total  Household and family care   \n",
       "20490   Serbia  2010  Monday to Friday    Total  Household and family care   \n",
       "20526   Serbia  2010  Monday to Friday    Males  Household and family care   \n",
       "20527   Serbia  2010  Monday to Friday    Males  Household and family care   \n",
       "20528   Serbia  2010  Monday to Friday    Males  Household and family care   \n",
       "20529   Serbia  2010  Monday to Friday    Males  Household and family care   \n",
       "20530   Serbia  2010  Monday to Friday    Males  Household and family care   \n",
       "20531   Serbia  2010  Monday to Friday    Males  Household and family care   \n",
       "20532   Serbia  2010  Monday to Friday    Males  Household and family care   \n",
       "20533   Serbia  2010  Monday to Friday    Males  Household and family care   \n",
       "20542   Serbia  2010  Monday to Friday    Males  Household and family care   \n",
       "20545   Serbia  2010  Monday to Friday    Males  Household and family care   \n",
       "20581   Serbia  2010  Monday to Friday  Females  Household and family care   \n",
       "20582   Serbia  2010  Monday to Friday  Females  Household and family care   \n",
       "20583   Serbia  2010  Monday to Friday  Females  Household and family care   \n",
       "20584   Serbia  2010  Monday to Friday  Females  Household and family care   \n",
       "20585   Serbia  2010  Monday to Friday  Females  Household and family care   \n",
       "20586   Serbia  2010  Monday to Friday  Females  Household and family care   \n",
       "20587   Serbia  2010  Monday to Friday  Females  Household and family care   \n",
       "20588   Serbia  2010  Monday to Friday  Females  Household and family care   \n",
       "20597   Serbia  2010  Monday to Friday  Females  Household and family care   \n",
       "20600   Serbia  2010  Monday to Friday  Females  Household and family care   \n",
       "\n",
       "      Time spent (hh:mm) Participation time (hh:mm) Participation rate (%)  \n",
       "176                03:23                      03:36                   93.8  \n",
       "177                00:40                      00:57                   70.7  \n",
       "178                00:15                      00:31                   49.9  \n",
       "179                00:18                      00:53                   34.3  \n",
       "180                00:22                      00:49                   46.0  \n",
       "181                00:05                      00:28                   18.0  \n",
       "182                00:11                      01:01                   18.3  \n",
       "183                00:03                      01:07                    5.1  \n",
       "192                00:10                      00:37                   25.5  \n",
       "231                02:26                      02:41                   90.5  \n",
       "232                00:22                      00:39                   55.5  \n",
       "233                00:10                      00:28                   36.6  \n",
       "234                00:08                      00:43                   19.3  \n",
       "235                00:17                      00:45                   37.0  \n",
       "236                00:01                      00:22                    4.1  \n",
       "237                00:01                      00:42                    3.1  \n",
       "247                00:09                      00:36                   23.9  \n",
       "286                04:16                      04:24                   96.9  \n",
       "287                00:58                      01:08                   84.8  \n",
       "288                00:20                      00:33                   62.3  \n",
       "289                00:27                      00:57                   48.3  \n",
       "290                00:28                      00:51                   54.4  \n",
       "291                00:09                      00:29                   31.0  \n",
       "292                00:21                      01:03                   32.4  \n",
       "293                00:06                      01:09                    9.3  \n",
       "302                00:10                      00:39                   26.9  \n",
       "671                03:11                      03:29                   91.4  \n",
       "672                00:35                      00:54                   64.5  \n",
       "673                00:17                      00:32                   51.9  \n",
       "674                00:13                      01:01                   22.0  \n",
       "...                  ...                        ...                    ...  \n",
       "20471              03:25                      03:56                   87.2  \n",
       "20472              00:59                      01:37                   60.7  \n",
       "20473              00:20                      00:44                   45.5  \n",
       "20474              00:24                      00:59                   40.2  \n",
       "20475              00:18                      00:56                   31.2  \n",
       "20476              00:07                      00:41                   16.9  \n",
       "20477              00:07                      00:57                   11.8  \n",
       "20478              00:04                      01:40                    3.6  \n",
       "20487              00:02                      00:45                    4.4  \n",
       "20490              00:11                      02:25                    7.7  \n",
       "20526              01:57                      02:33                   76.8  \n",
       "20527              00:16                      00:51                   30.9  \n",
       "20528              00:03                      00:26                   13.0  \n",
       "20529              00:06                      00:39                   16.1  \n",
       "20530              00:23                      01:15                   30.0  \n",
       "20531              00:01                      00:33                    2.5  \n",
       "20532              00:00                      00:49                    0.7  \n",
       "20533              00:00                      00:25                    0.7  \n",
       "20542              00:02                      01:00                    3.2  \n",
       "20545              00:13                      02:41                    8.3  \n",
       "20581              04:47                      04:57                   96.8  \n",
       "20582              01:39                      01:52                   88.3  \n",
       "20583              00:35                      00:47                   75.7  \n",
       "20584              00:40                      01:04                   62.5  \n",
       "20585              00:13                      00:40                   32.4  \n",
       "20586              00:13                      00:42                   30.4  \n",
       "20587              00:13                      00:57                   22.2  \n",
       "20588              00:07                      01:48                    6.3  \n",
       "20597              00:02                      00:37                    5.5  \n",
       "20600              00:09                      02:09                    7.2  \n",
       "\n",
       "[1240 rows x 8 columns]"
      ]
     },
     "execution_count": 376,
     "metadata": {},
     "output_type": "execute_result"
    }
   ],
   "source": [
    "final[(final[\"CATEGORY\"] == 'Household and family care') & (final[\"DAYSWEEK\"] == 'Monday to Friday')]"
   ]
  },
  {
   "cell_type": "code",
   "execution_count": 377,
   "metadata": {},
   "outputs": [
    {
     "data": {
      "text/plain": [
       "array(['Personal care', 'Sleep', 'Eating', 'Work / Study',\n",
       "       'Household and family care', 'Home maintenance', 'Pet care',\n",
       "       'Shopping', 'Child care', 'Leisure, social and associative life',\n",
       "       'Sport', 'Travel', 'Transportations', 'Unspecified'], dtype=object)"
      ]
     },
     "execution_count": 377,
     "metadata": {},
     "output_type": "execute_result"
    }
   ],
   "source": [
    "final['CATEGORY'].unique()"
   ]
  },
  {
   "cell_type": "code",
   "execution_count": 378,
   "metadata": {},
   "outputs": [
    {
     "data": {
      "text/html": [
       "<div>\n",
       "<style>\n",
       "    .dataframe thead tr:only-child th {\n",
       "        text-align: right;\n",
       "    }\n",
       "\n",
       "    .dataframe thead th {\n",
       "        text-align: left;\n",
       "    }\n",
       "\n",
       "    .dataframe tbody tr th {\n",
       "        vertical-align: top;\n",
       "    }\n",
       "</style>\n",
       "<table border=\"1\" class=\"dataframe\">\n",
       "  <thead>\n",
       "    <tr style=\"text-align: right;\">\n",
       "      <th></th>\n",
       "      <th>COUNTRY</th>\n",
       "      <th>YEAR</th>\n",
       "      <th>DAYSWEEK</th>\n",
       "      <th>SEX</th>\n",
       "      <th>CATEGORY</th>\n",
       "      <th>Time spent (hh:mm)</th>\n",
       "      <th>Participation time (hh:mm)</th>\n",
       "      <th>Participation rate (%)</th>\n",
       "    </tr>\n",
       "  </thead>\n",
       "  <tbody>\n",
       "    <tr>\n",
       "      <th>0</th>\n",
       "      <td>Belgium</td>\n",
       "      <td>2000</td>\n",
       "      <td>All days of the week</td>\n",
       "      <td>Total</td>\n",
       "      <td>Personal care</td>\n",
       "      <td>10:58</td>\n",
       "      <td>10:59</td>\n",
       "      <td>100.0</td>\n",
       "    </tr>\n",
       "    <tr>\n",
       "      <th>1</th>\n",
       "      <td>Belgium</td>\n",
       "      <td>2000</td>\n",
       "      <td>All days of the week</td>\n",
       "      <td>Total</td>\n",
       "      <td>Sleep</td>\n",
       "      <td>08:25</td>\n",
       "      <td>08:25</td>\n",
       "      <td>100.0</td>\n",
       "    </tr>\n",
       "    <tr>\n",
       "      <th>2</th>\n",
       "      <td>Belgium</td>\n",
       "      <td>2000</td>\n",
       "      <td>All days of the week</td>\n",
       "      <td>Total</td>\n",
       "      <td>Eating</td>\n",
       "      <td>01:49</td>\n",
       "      <td>01:50</td>\n",
       "      <td>99.5</td>\n",
       "    </tr>\n",
       "    <tr>\n",
       "      <th>3</th>\n",
       "      <td>Belgium</td>\n",
       "      <td>2000</td>\n",
       "      <td>All days of the week</td>\n",
       "      <td>Total</td>\n",
       "      <td>Personal care</td>\n",
       "      <td>00:44</td>\n",
       "      <td>00:45</td>\n",
       "      <td>97.6</td>\n",
       "    </tr>\n",
       "    <tr>\n",
       "      <th>4</th>\n",
       "      <td>Belgium</td>\n",
       "      <td>2000</td>\n",
       "      <td>All days of the week</td>\n",
       "      <td>Total</td>\n",
       "      <td>Work / Study</td>\n",
       "      <td>02:29</td>\n",
       "      <td>07:11</td>\n",
       "      <td>34.5</td>\n",
       "    </tr>\n",
       "  </tbody>\n",
       "</table>\n",
       "</div>"
      ],
      "text/plain": [
       "   COUNTRY  YEAR              DAYSWEEK    SEX       CATEGORY  \\\n",
       "0  Belgium  2000  All days of the week  Total  Personal care   \n",
       "1  Belgium  2000  All days of the week  Total          Sleep   \n",
       "2  Belgium  2000  All days of the week  Total         Eating   \n",
       "3  Belgium  2000  All days of the week  Total  Personal care   \n",
       "4  Belgium  2000  All days of the week  Total   Work / Study   \n",
       "\n",
       "  Time spent (hh:mm) Participation time (hh:mm) Participation rate (%)  \n",
       "0              10:58                      10:59                  100.0  \n",
       "1              08:25                      08:25                  100.0  \n",
       "2              01:49                      01:50                   99.5  \n",
       "3              00:44                      00:45                   97.6  \n",
       "4              02:29                      07:11                   34.5  "
      ]
     },
     "execution_count": 378,
     "metadata": {},
     "output_type": "execute_result"
    }
   ],
   "source": [
    "final.head()"
   ]
  },
  {
   "cell_type": "code",
   "execution_count": 379,
   "metadata": {},
   "outputs": [
    {
     "data": {
      "text/plain": [
       "(20427, 8)"
      ]
     },
     "execution_count": 379,
     "metadata": {},
     "output_type": "execute_result"
    }
   ],
   "source": [
    "final.shape"
   ]
  },
  {
   "cell_type": "code",
   "execution_count": 380,
   "metadata": {},
   "outputs": [
    {
     "data": {
      "text/html": [
       "<div>\n",
       "<style>\n",
       "    .dataframe thead tr:only-child th {\n",
       "        text-align: right;\n",
       "    }\n",
       "\n",
       "    .dataframe thead th {\n",
       "        text-align: left;\n",
       "    }\n",
       "\n",
       "    .dataframe tbody tr th {\n",
       "        vertical-align: top;\n",
       "    }\n",
       "</style>\n",
       "<table border=\"1\" class=\"dataframe\">\n",
       "  <thead>\n",
       "    <tr style=\"text-align: right;\">\n",
       "      <th></th>\n",
       "      <th>COUNTRY</th>\n",
       "      <th>YEAR</th>\n",
       "      <th>DAYSWEEK</th>\n",
       "      <th>SEX</th>\n",
       "      <th>CATEGORY</th>\n",
       "      <th>Time spent (hh:mm)</th>\n",
       "      <th>Participation time (hh:mm)</th>\n",
       "      <th>Participation rate (%)</th>\n",
       "    </tr>\n",
       "  </thead>\n",
       "  <tbody>\n",
       "    <tr>\n",
       "      <th>0</th>\n",
       "      <td>Belgium</td>\n",
       "      <td>2000</td>\n",
       "      <td>All days of the week</td>\n",
       "      <td>Total</td>\n",
       "      <td>Personal care</td>\n",
       "      <td>10:58</td>\n",
       "      <td>10:59</td>\n",
       "      <td>100.0</td>\n",
       "    </tr>\n",
       "    <tr>\n",
       "      <th>1</th>\n",
       "      <td>Belgium</td>\n",
       "      <td>2000</td>\n",
       "      <td>All days of the week</td>\n",
       "      <td>Total</td>\n",
       "      <td>Sleep</td>\n",
       "      <td>08:25</td>\n",
       "      <td>08:25</td>\n",
       "      <td>100.0</td>\n",
       "    </tr>\n",
       "    <tr>\n",
       "      <th>2</th>\n",
       "      <td>Belgium</td>\n",
       "      <td>2000</td>\n",
       "      <td>All days of the week</td>\n",
       "      <td>Total</td>\n",
       "      <td>Eating</td>\n",
       "      <td>01:49</td>\n",
       "      <td>01:50</td>\n",
       "      <td>99.5</td>\n",
       "    </tr>\n",
       "    <tr>\n",
       "      <th>3</th>\n",
       "      <td>Belgium</td>\n",
       "      <td>2000</td>\n",
       "      <td>All days of the week</td>\n",
       "      <td>Total</td>\n",
       "      <td>Personal care</td>\n",
       "      <td>00:44</td>\n",
       "      <td>00:45</td>\n",
       "      <td>97.6</td>\n",
       "    </tr>\n",
       "    <tr>\n",
       "      <th>4</th>\n",
       "      <td>Belgium</td>\n",
       "      <td>2000</td>\n",
       "      <td>All days of the week</td>\n",
       "      <td>Total</td>\n",
       "      <td>Work / Study</td>\n",
       "      <td>02:29</td>\n",
       "      <td>07:11</td>\n",
       "      <td>34.5</td>\n",
       "    </tr>\n",
       "  </tbody>\n",
       "</table>\n",
       "</div>"
      ],
      "text/plain": [
       "   COUNTRY  YEAR              DAYSWEEK    SEX       CATEGORY  \\\n",
       "0  Belgium  2000  All days of the week  Total  Personal care   \n",
       "1  Belgium  2000  All days of the week  Total          Sleep   \n",
       "2  Belgium  2000  All days of the week  Total         Eating   \n",
       "3  Belgium  2000  All days of the week  Total  Personal care   \n",
       "4  Belgium  2000  All days of the week  Total   Work / Study   \n",
       "\n",
       "  Time spent (hh:mm) Participation time (hh:mm) Participation rate (%)  \n",
       "0              10:58                      10:59                  100.0  \n",
       "1              08:25                      08:25                  100.0  \n",
       "2              01:49                      01:50                   99.5  \n",
       "3              00:44                      00:45                   97.6  \n",
       "4              02:29                      07:11                   34.5  "
      ]
     },
     "execution_count": 380,
     "metadata": {},
     "output_type": "execute_result"
    }
   ],
   "source": [
    "final.head()"
   ]
  },
  {
   "cell_type": "code",
   "execution_count": 381,
   "metadata": {},
   "outputs": [
    {
     "name": "stderr",
     "output_type": "stream",
     "text": [
      "/Users/Alex/anaconda/lib/python3.6/site-packages/ipykernel_launcher.py:1: SettingWithCopyWarning: \n",
      "A value is trying to be set on a copy of a slice from a DataFrame.\n",
      "Try using .loc[row_indexer,col_indexer] = value instead\n",
      "\n",
      "See the caveats in the documentation: http://pandas.pydata.org/pandas-docs/stable/indexing.html#indexing-view-versus-copy\n",
      "  \"\"\"Entry point for launching an IPython kernel.\n",
      "/Users/Alex/anaconda/lib/python3.6/site-packages/ipykernel_launcher.py:2: SettingWithCopyWarning: \n",
      "A value is trying to be set on a copy of a slice from a DataFrame.\n",
      "Try using .loc[row_indexer,col_indexer] = value instead\n",
      "\n",
      "See the caveats in the documentation: http://pandas.pydata.org/pandas-docs/stable/indexing.html#indexing-view-versus-copy\n",
      "  \n",
      "/Users/Alex/anaconda/lib/python3.6/site-packages/ipykernel_launcher.py:3: SettingWithCopyWarning: \n",
      "A value is trying to be set on a copy of a slice from a DataFrame.\n",
      "Try using .loc[row_indexer,col_indexer] = value instead\n",
      "\n",
      "See the caveats in the documentation: http://pandas.pydata.org/pandas-docs/stable/indexing.html#indexing-view-versus-copy\n",
      "  This is separate from the ipykernel package so we can avoid doing imports until\n"
     ]
    }
   ],
   "source": [
    "final[\"Time spent (hh:mm)\"] = final[\"Time spent (hh:mm)\"].fillna('00:00')\n",
    "final[\"Participation time (hh:mm)\"] = final[\"Participation time (hh:mm)\"].fillna('00:00')\n",
    "final[\"Participation rate (%)\"] = final[\"Participation rate (%)\"].fillna('0')"
   ]
  },
  {
   "cell_type": "code",
   "execution_count": 382,
   "metadata": {},
   "outputs": [
    {
     "name": "stderr",
     "output_type": "stream",
     "text": [
      "/Users/Alex/anaconda/lib/python3.6/site-packages/pandas/core/indexing.py:517: SettingWithCopyWarning: \n",
      "A value is trying to be set on a copy of a slice from a DataFrame.\n",
      "Try using .loc[row_indexer,col_indexer] = value instead\n",
      "\n",
      "See the caveats in the documentation: http://pandas.pydata.org/pandas-docs/stable/indexing.html#indexing-view-versus-copy\n",
      "  self.obj[item] = s\n"
     ]
    }
   ],
   "source": [
    "final.loc[final['Time spent (hh:mm)'] == ':', 'Time spent (hh:mm)'] = '00:00'\n",
    "final.loc[final['Participation time (hh:mm)'] == ':', 'Participation time (hh:mm)'] = '00:00'"
   ]
  },
  {
   "cell_type": "code",
   "execution_count": 383,
   "metadata": {},
   "outputs": [
    {
     "data": {
      "text/plain": [
       "COUNTRY                       0\n",
       "YEAR                          0\n",
       "DAYSWEEK                      0\n",
       "SEX                           0\n",
       "CATEGORY                      0\n",
       "Time spent (hh:mm)            0\n",
       "Participation time (hh:mm)    0\n",
       "Participation rate (%)        0\n",
       "dtype: int64"
      ]
     },
     "execution_count": 383,
     "metadata": {},
     "output_type": "execute_result"
    }
   ],
   "source": [
    "final.isnull().sum()"
   ]
  },
  {
   "cell_type": "raw",
   "metadata": {},
   "source": [
    "h, m = final['Time spent (hh:mm)'][1].split(\":\")"
   ]
  },
  {
   "cell_type": "code",
   "execution_count": 384,
   "metadata": {
    "collapsed": true
   },
   "outputs": [],
   "source": [
    "def get_sec(time_str):\n",
    "    h, m = time_str.split(':')\n",
    "    return int(h) * 3600 + int(m) * 60\n",
    "\n",
    "def get_sec_reversed(time):\n",
    "    h, m = str(datetime.timedelta(seconds = time)).split(':')[:2]\n",
    "    return h + \":\" + m"
   ]
  },
  {
   "cell_type": "code",
   "execution_count": 385,
   "metadata": {},
   "outputs": [
    {
     "name": "stderr",
     "output_type": "stream",
     "text": [
      "/Users/Alex/anaconda/lib/python3.6/site-packages/ipykernel_launcher.py:1: SettingWithCopyWarning: \n",
      "A value is trying to be set on a copy of a slice from a DataFrame.\n",
      "Try using .loc[row_indexer,col_indexer] = value instead\n",
      "\n",
      "See the caveats in the documentation: http://pandas.pydata.org/pandas-docs/stable/indexing.html#indexing-view-versus-copy\n",
      "  \"\"\"Entry point for launching an IPython kernel.\n",
      "/Users/Alex/anaconda/lib/python3.6/site-packages/ipykernel_launcher.py:2: SettingWithCopyWarning: \n",
      "A value is trying to be set on a copy of a slice from a DataFrame.\n",
      "Try using .loc[row_indexer,col_indexer] = value instead\n",
      "\n",
      "See the caveats in the documentation: http://pandas.pydata.org/pandas-docs/stable/indexing.html#indexing-view-versus-copy\n",
      "  \n"
     ]
    }
   ],
   "source": [
    "final['Time spent (hh:mm)'] = final['Time spent (hh:mm)'].apply(get_sec)\n",
    "final[\"Participation time (hh:mm)\"] = final[\"Participation time (hh:mm)\"].apply(get_sec)"
   ]
  },
  {
   "cell_type": "raw",
   "metadata": {},
   "source": [
    "final"
   ]
  },
  {
   "cell_type": "code",
   "execution_count": 386,
   "metadata": {},
   "outputs": [
    {
     "name": "stderr",
     "output_type": "stream",
     "text": [
      "/Users/Alex/anaconda/lib/python3.6/site-packages/ipykernel_launcher.py:1: SettingWithCopyWarning: \n",
      "A value is trying to be set on a copy of a slice from a DataFrame.\n",
      "Try using .loc[row_indexer,col_indexer] = value instead\n",
      "\n",
      "See the caveats in the documentation: http://pandas.pydata.org/pandas-docs/stable/indexing.html#indexing-view-versus-copy\n",
      "  \"\"\"Entry point for launching an IPython kernel.\n",
      "/Users/Alex/anaconda/lib/python3.6/site-packages/pandas/core/indexing.py:517: SettingWithCopyWarning: \n",
      "A value is trying to be set on a copy of a slice from a DataFrame.\n",
      "Try using .loc[row_indexer,col_indexer] = value instead\n",
      "\n",
      "See the caveats in the documentation: http://pandas.pydata.org/pandas-docs/stable/indexing.html#indexing-view-versus-copy\n",
      "  self.obj[item] = s\n"
     ]
    }
   ],
   "source": [
    "final[final['Participation rate (%)'] == \":\"] = 0"
   ]
  },
  {
   "cell_type": "code",
   "execution_count": 387,
   "metadata": {},
   "outputs": [
    {
     "data": {
      "text/html": [
       "<div>\n",
       "<style>\n",
       "    .dataframe thead tr:only-child th {\n",
       "        text-align: right;\n",
       "    }\n",
       "\n",
       "    .dataframe thead th {\n",
       "        text-align: left;\n",
       "    }\n",
       "\n",
       "    .dataframe tbody tr th {\n",
       "        vertical-align: top;\n",
       "    }\n",
       "</style>\n",
       "<table border=\"1\" class=\"dataframe\">\n",
       "  <thead>\n",
       "    <tr style=\"text-align: right;\">\n",
       "      <th></th>\n",
       "      <th>COUNTRY</th>\n",
       "      <th>YEAR</th>\n",
       "      <th>DAYSWEEK</th>\n",
       "      <th>SEX</th>\n",
       "      <th>CATEGORY</th>\n",
       "      <th>Time spent (hh:mm)</th>\n",
       "      <th>Participation time (hh:mm)</th>\n",
       "      <th>Participation rate (%)</th>\n",
       "    </tr>\n",
       "  </thead>\n",
       "  <tbody>\n",
       "    <tr>\n",
       "      <th>0</th>\n",
       "      <td>Belgium</td>\n",
       "      <td>2000</td>\n",
       "      <td>All days of the week</td>\n",
       "      <td>Total</td>\n",
       "      <td>Personal care</td>\n",
       "      <td>39480</td>\n",
       "      <td>39540</td>\n",
       "      <td>100.0</td>\n",
       "    </tr>\n",
       "    <tr>\n",
       "      <th>1</th>\n",
       "      <td>Belgium</td>\n",
       "      <td>2000</td>\n",
       "      <td>All days of the week</td>\n",
       "      <td>Total</td>\n",
       "      <td>Sleep</td>\n",
       "      <td>30300</td>\n",
       "      <td>30300</td>\n",
       "      <td>100.0</td>\n",
       "    </tr>\n",
       "    <tr>\n",
       "      <th>2</th>\n",
       "      <td>Belgium</td>\n",
       "      <td>2000</td>\n",
       "      <td>All days of the week</td>\n",
       "      <td>Total</td>\n",
       "      <td>Eating</td>\n",
       "      <td>6540</td>\n",
       "      <td>6600</td>\n",
       "      <td>99.5</td>\n",
       "    </tr>\n",
       "    <tr>\n",
       "      <th>3</th>\n",
       "      <td>Belgium</td>\n",
       "      <td>2000</td>\n",
       "      <td>All days of the week</td>\n",
       "      <td>Total</td>\n",
       "      <td>Personal care</td>\n",
       "      <td>2640</td>\n",
       "      <td>2700</td>\n",
       "      <td>97.6</td>\n",
       "    </tr>\n",
       "    <tr>\n",
       "      <th>4</th>\n",
       "      <td>Belgium</td>\n",
       "      <td>2000</td>\n",
       "      <td>All days of the week</td>\n",
       "      <td>Total</td>\n",
       "      <td>Work / Study</td>\n",
       "      <td>8940</td>\n",
       "      <td>25860</td>\n",
       "      <td>34.5</td>\n",
       "    </tr>\n",
       "  </tbody>\n",
       "</table>\n",
       "</div>"
      ],
      "text/plain": [
       "   COUNTRY  YEAR              DAYSWEEK    SEX       CATEGORY  \\\n",
       "0  Belgium  2000  All days of the week  Total  Personal care   \n",
       "1  Belgium  2000  All days of the week  Total          Sleep   \n",
       "2  Belgium  2000  All days of the week  Total         Eating   \n",
       "3  Belgium  2000  All days of the week  Total  Personal care   \n",
       "4  Belgium  2000  All days of the week  Total   Work / Study   \n",
       "\n",
       "   Time spent (hh:mm)  Participation time (hh:mm) Participation rate (%)  \n",
       "0               39480                       39540                  100.0  \n",
       "1               30300                       30300                  100.0  \n",
       "2                6540                        6600                   99.5  \n",
       "3                2640                        2700                   97.6  \n",
       "4                8940                       25860                   34.5  "
      ]
     },
     "execution_count": 387,
     "metadata": {},
     "output_type": "execute_result"
    }
   ],
   "source": [
    "final.head()"
   ]
  },
  {
   "cell_type": "code",
   "execution_count": 388,
   "metadata": {
    "collapsed": true
   },
   "outputs": [],
   "source": [
    "gb = final.groupby(['COUNTRY', 'YEAR', 'DAYSWEEK', 'SEX', 'CATEGORY'])['Time spent (hh:mm)'].sum()"
   ]
  },
  {
   "cell_type": "code",
   "execution_count": 389,
   "metadata": {
    "collapsed": true
   },
   "outputs": [],
   "source": [
    "gb = pd.DataFrame(gb.reset_index(name = 'SUM Time spent (hh:mm)'))\n",
    "gb[\"SUM Time spent (hh:mm)\"] = gb[\"SUM Time spent (hh:mm)\"] / 2\n",
    "gb = gb.drop(0)"
   ]
  },
  {
   "cell_type": "code",
   "execution_count": 392,
   "metadata": {
    "collapsed": true
   },
   "outputs": [],
   "source": [
    "gb[\"SUM Time spent (hh:mm)\"] = gb[\"SUM Time spent (hh:mm)\"].apply(get_sec_reversed)"
   ]
  },
  {
   "cell_type": "code",
   "execution_count": 393,
   "metadata": {
    "collapsed": true
   },
   "outputs": [],
   "source": [
    "gb2 = final.groupby(['COUNTRY', 'YEAR', 'DAYSWEEK', 'SEX', 'CATEGORY'])['Participation time (hh:mm)'].sum()"
   ]
  },
  {
   "cell_type": "code",
   "execution_count": 394,
   "metadata": {
    "collapsed": true
   },
   "outputs": [],
   "source": [
    "gb2 = pd.DataFrame(gb2.reset_index(name = 'SUM Participation time (hh:mm)'))\n",
    "gb2[\"SUM Participation time (hh:mm)\"] = gb2[\"SUM Participation time (hh:mm)\"] / 2\n",
    "gb2 = gb2.drop(0)"
   ]
  },
  {
   "cell_type": "code",
   "execution_count": 397,
   "metadata": {
    "collapsed": true
   },
   "outputs": [],
   "source": [
    "gb2[\"SUM Participation time (hh:mm)\"] = gb2[\"SUM Participation time (hh:mm)\"].apply(get_sec_reversed)"
   ]
  },
  {
   "cell_type": "code",
   "execution_count": 398,
   "metadata": {},
   "outputs": [
    {
     "name": "stderr",
     "output_type": "stream",
     "text": [
      "/Users/Alex/anaconda/lib/python3.6/site-packages/ipykernel_launcher.py:1: SettingWithCopyWarning: \n",
      "A value is trying to be set on a copy of a slice from a DataFrame.\n",
      "Try using .loc[row_indexer,col_indexer] = value instead\n",
      "\n",
      "See the caveats in the documentation: http://pandas.pydata.org/pandas-docs/stable/indexing.html#indexing-view-versus-copy\n",
      "  \"\"\"Entry point for launching an IPython kernel.\n"
     ]
    }
   ],
   "source": [
    "final['Participation rate (%)'] = final['Participation rate (%)'].apply(pd.to_numeric)"
   ]
  },
  {
   "cell_type": "code",
   "execution_count": 399,
   "metadata": {
    "collapsed": true
   },
   "outputs": [],
   "source": [
    "gb3 = final.groupby(['COUNTRY', 'YEAR', 'DAYSWEEK', 'SEX', 'CATEGORY'])['Participation rate (%)'].mean()\n",
    "gb3 = pd.DataFrame(gb3.reset_index(name = 'MEAN Participation rate (%)'))\n",
    "gb3 = gb3.drop(0)"
   ]
  },
  {
   "cell_type": "code",
   "execution_count": null,
   "metadata": {
    "collapsed": true
   },
   "outputs": [],
   "source": [
    "gb[\"SUM Participation time (hh:mm)\"] = gb2[\"SUM Participation time (hh:mm)\"]\n",
    "gb['MEAN Participation rate (%)'] = gb3['MEAN Participation rate (%)']"
   ]
  },
  {
   "cell_type": "code",
   "execution_count": null,
   "metadata": {
    "collapsed": true
   },
   "outputs": [],
   "source": []
  },
  {
   "cell_type": "code",
   "execution_count": 456,
   "metadata": {
    "collapsed": true
   },
   "outputs": [],
   "source": [
    "gb4 = final.groupby(['YEAR', 'DAYSWEEK', 'SEX', 'CATEGORY'])['Time spent (hh:mm)'].mean()\n",
    "gb4 = pd.DataFrame(gb4.reset_index(name = 'SUM Time spent (hh:mm)'))\n",
    "gb4 = gb4.drop(0)"
   ]
  },
  {
   "cell_type": "code",
   "execution_count": 457,
   "metadata": {
    "collapsed": true
   },
   "outputs": [],
   "source": [
    "gb4[\"SUM Time spent (hh:mm)\"] = gb4[\"SUM Time spent (hh:mm)\"].apply(get_sec_reversed)"
   ]
  },
  {
   "cell_type": "code",
   "execution_count": 458,
   "metadata": {
    "collapsed": true
   },
   "outputs": [],
   "source": [
    "gb4['COUNTRY'] = 'Europe'"
   ]
  },
  {
   "cell_type": "code",
   "execution_count": 465,
   "metadata": {
    "collapsed": true
   },
   "outputs": [],
   "source": [
    "gb5 = final.groupby(['YEAR', 'DAYSWEEK', 'SEX', 'CATEGORY'])['Participation time (hh:mm)'].mean()\n",
    "gb5 = pd.DataFrame(gb5.reset_index(name = 'SUM Participation time (hh:mm)'))\n",
    "gb5 = gb5.drop(0)"
   ]
  },
  {
   "cell_type": "code",
   "execution_count": 466,
   "metadata": {
    "collapsed": true
   },
   "outputs": [],
   "source": [
    "gb5[\"SUM Participation time (hh:mm)\"] = gb5[\"SUM Participation time (hh:mm)\"].apply(get_sec_reversed)"
   ]
  },
  {
   "cell_type": "code",
   "execution_count": 467,
   "metadata": {
    "collapsed": true
   },
   "outputs": [],
   "source": [
    "gb5['COUNTRY'] = 'Europe'"
   ]
  },
  {
   "cell_type": "code",
   "execution_count": 474,
   "metadata": {
    "collapsed": true
   },
   "outputs": [],
   "source": [
    "gb6 = final.groupby(['YEAR', 'DAYSWEEK', 'SEX', 'CATEGORY'])['Participation rate (%)'].mean()\n",
    "gb6 = pd.DataFrame(gb6.reset_index(name = 'MEAN Participation rate (%)'))\n",
    "gb6 = gb6.drop(0)"
   ]
  },
  {
   "cell_type": "code",
   "execution_count": null,
   "metadata": {
    "collapsed": true
   },
   "outputs": [],
   "source": []
  },
  {
   "cell_type": "code",
   "execution_count": 475,
   "metadata": {
    "collapsed": true
   },
   "outputs": [],
   "source": [
    "gb6['COUNTRY'] = 'Europe'"
   ]
  },
  {
   "cell_type": "code",
   "execution_count": 476,
   "metadata": {
    "collapsed": true
   },
   "outputs": [],
   "source": [
    "gb4[\"SUM Participation time (hh:mm)\"] = gb5[\"SUM Participation time (hh:mm)\"]\n",
    "gb4['MEAN Participation rate (%)'] = gb6['MEAN Participation rate (%)']"
   ]
  },
  {
   "cell_type": "code",
   "execution_count": 412,
   "metadata": {
    "collapsed": true,
    "scrolled": false
   },
   "outputs": [],
   "source": [
    "#gb.to_csv('dataDONEComma.csv', sep = \",\")"
   ]
  },
  {
   "cell_type": "code",
   "execution_count": null,
   "metadata": {
    "collapsed": true
   },
   "outputs": [],
   "source": []
  },
  {
   "cell_type": "code",
   "execution_count": null,
   "metadata": {
    "collapsed": true
   },
   "outputs": [],
   "source": []
  },
  {
   "cell_type": "code",
   "execution_count": 426,
   "metadata": {
    "collapsed": true
   },
   "outputs": [],
   "source": [
    "data = pd.read_csv(\"dataDONEComma.csv\", sep = \",\", index_col = 0)"
   ]
  },
  {
   "cell_type": "code",
   "execution_count": 483,
   "metadata": {
    "collapsed": true
   },
   "outputs": [],
   "source": [
    "country = 'France'\n",
    "daysweek = 'All days of the week'\n",
    "sex = \"Males\"\n",
    "year = 2010"
   ]
  },
  {
   "cell_type": "code",
   "execution_count": 485,
   "metadata": {
    "collapsed": true
   },
   "outputs": [],
   "source": [
    "test = data[(data['YEAR'] == year) & (data['COUNTRY'] == country) & (data['DAYSWEEK'] == daysweek) & (data['SEX'] == sex)]"
   ]
  },
  {
   "cell_type": "code",
   "execution_count": 486,
   "metadata": {},
   "outputs": [
    {
     "data": {
      "text/html": [
       "<div>\n",
       "<style>\n",
       "    .dataframe thead tr:only-child th {\n",
       "        text-align: right;\n",
       "    }\n",
       "\n",
       "    .dataframe thead th {\n",
       "        text-align: left;\n",
       "    }\n",
       "\n",
       "    .dataframe tbody tr th {\n",
       "        vertical-align: top;\n",
       "    }\n",
       "</style>\n",
       "<table border=\"1\" class=\"dataframe\">\n",
       "  <thead>\n",
       "    <tr style=\"text-align: right;\">\n",
       "      <th></th>\n",
       "      <th>COUNTRY</th>\n",
       "      <th>YEAR</th>\n",
       "      <th>DAYSWEEK</th>\n",
       "      <th>SEX</th>\n",
       "      <th>CATEGORY</th>\n",
       "      <th>SUM Time spent (hh:mm)</th>\n",
       "      <th>SUM Participation time (hh:mm)</th>\n",
       "      <th>MEAN Participation rate (%)</th>\n",
       "    </tr>\n",
       "  </thead>\n",
       "  <tbody>\n",
       "    <tr>\n",
       "      <th>1167</th>\n",
       "      <td>France</td>\n",
       "      <td>2010</td>\n",
       "      <td>All days of the week</td>\n",
       "      <td>Males</td>\n",
       "      <td>Child care</td>\n",
       "      <td>0:06</td>\n",
       "      <td>0:59</td>\n",
       "      <td>11.550000</td>\n",
       "    </tr>\n",
       "    <tr>\n",
       "      <th>1168</th>\n",
       "      <td>France</td>\n",
       "      <td>2010</td>\n",
       "      <td>All days of the week</td>\n",
       "      <td>Males</td>\n",
       "      <td>Eating</td>\n",
       "      <td>1:07</td>\n",
       "      <td>1:08</td>\n",
       "      <td>99.200000</td>\n",
       "    </tr>\n",
       "    <tr>\n",
       "      <th>1169</th>\n",
       "      <td>France</td>\n",
       "      <td>2010</td>\n",
       "      <td>All days of the week</td>\n",
       "      <td>Males</td>\n",
       "      <td>Home maintenance</td>\n",
       "      <td>0:12</td>\n",
       "      <td>1:09</td>\n",
       "      <td>8.500000</td>\n",
       "    </tr>\n",
       "    <tr>\n",
       "      <th>1170</th>\n",
       "      <td>France</td>\n",
       "      <td>2010</td>\n",
       "      <td>All days of the week</td>\n",
       "      <td>Males</td>\n",
       "      <td>Household and family care</td>\n",
       "      <td>1:43</td>\n",
       "      <td>6:17</td>\n",
       "      <td>20.900000</td>\n",
       "    </tr>\n",
       "    <tr>\n",
       "      <th>1171</th>\n",
       "      <td>France</td>\n",
       "      <td>2010</td>\n",
       "      <td>All days of the week</td>\n",
       "      <td>Males</td>\n",
       "      <td>Leisure, social and associative life</td>\n",
       "      <td>4:30</td>\n",
       "      <td>12:34</td>\n",
       "      <td>22.546154</td>\n",
       "    </tr>\n",
       "  </tbody>\n",
       "</table>\n",
       "</div>"
      ],
      "text/plain": [
       "     COUNTRY  YEAR              DAYSWEEK    SEX  \\\n",
       "1167  France  2010  All days of the week  Males   \n",
       "1168  France  2010  All days of the week  Males   \n",
       "1169  France  2010  All days of the week  Males   \n",
       "1170  France  2010  All days of the week  Males   \n",
       "1171  France  2010  All days of the week  Males   \n",
       "\n",
       "                                  CATEGORY SUM Time spent (hh:mm)  \\\n",
       "1167                            Child care                   0:06   \n",
       "1168                                Eating                   1:07   \n",
       "1169                      Home maintenance                   0:12   \n",
       "1170             Household and family care                   1:43   \n",
       "1171  Leisure, social and associative life                   4:30   \n",
       "\n",
       "     SUM Participation time (hh:mm)  MEAN Participation rate (%)  \n",
       "1167                           0:59                    11.550000  \n",
       "1168                           1:08                    99.200000  \n",
       "1169                           1:09                     8.500000  \n",
       "1170                           6:17                    20.900000  \n",
       "1171                          12:34                    22.546154  "
      ]
     },
     "execution_count": 486,
     "metadata": {},
     "output_type": "execute_result"
    }
   ],
   "source": [
    "test.head()"
   ]
  },
  {
   "cell_type": "code",
   "execution_count": 491,
   "metadata": {},
   "outputs": [
    {
     "data": {
      "text/plain": [
       "['Males', 'Males']"
      ]
     },
     "execution_count": 491,
     "metadata": {},
     "output_type": "execute_result"
    }
   ],
   "source": [
    "category = ['Eating', 'Child care']\n",
    "test[test['CATEGORY'].isin(category)]"
   ]
  },
  {
   "cell_type": "code",
   "execution_count": null,
   "metadata": {
    "collapsed": true
   },
   "outputs": [],
   "source": []
  },
  {
   "cell_type": "code",
   "execution_count": null,
   "metadata": {
    "collapsed": true
   },
   "outputs": [],
   "source": []
  },
  {
   "cell_type": "code",
   "execution_count": null,
   "metadata": {
    "collapsed": true
   },
   "outputs": [],
   "source": []
  },
  {
   "cell_type": "code",
   "execution_count": 478,
   "metadata": {
    "collapsed": true
   },
   "outputs": [],
   "source": [
    "gb = pd.concat([gb, gb4])"
   ]
  },
  {
   "cell_type": "code",
   "execution_count": 493,
   "metadata": {
    "collapsed": true
   },
   "outputs": [],
   "source": [
    "gb.to_csv('dataDONEComma.csv', sep = \",\")"
   ]
  },
  {
   "cell_type": "code",
   "execution_count": null,
   "metadata": {
    "collapsed": true
   },
   "outputs": [],
   "source": []
  }
 ],
 "metadata": {
  "kernelspec": {
   "display_name": "Python 3",
   "language": "python",
   "name": "python3"
  },
  "language_info": {
   "codemirror_mode": {
    "name": "ipython",
    "version": 3
   },
   "file_extension": ".py",
   "mimetype": "text/x-python",
   "name": "python",
   "nbconvert_exporter": "python",
   "pygments_lexer": "ipython3",
   "version": "3.6.1"
  }
 },
 "nbformat": 4,
 "nbformat_minor": 2
}
